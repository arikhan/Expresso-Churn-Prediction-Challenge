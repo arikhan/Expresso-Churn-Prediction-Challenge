{
 "cells": [
  {
   "cell_type": "code",
   "execution_count": 1,
   "id": "c2c146a9-99a3-4f82-a463-5478ae60304f",
   "metadata": {},
   "outputs": [],
   "source": [
    "# Libraries that have been used \n",
    "import pandas as pd\n",
    "import seaborn as sns\n",
    "import numpy as np\n",
    "import re\n",
    "from sklearn.preprocessing import MinMaxScaler\n",
    "from sklearn.model_selection import StratifiedKFold\n",
    "from sklearn.linear_model import LogisticRegression\n",
    "from sklearn.metrics import roc_auc_score\n",
    "from sklearn.decomposition import PCA\n",
    "from datetime import datetime\n",
    "import matplotlib.pyplot as plt\n",
    "import itertools\n",
    "from sklearn.metrics import precision_score\n",
    "from sklearn.metrics import recall_score\n",
    "from imblearn.under_sampling import RandomUnderSampler\n",
    "from imblearn.over_sampling import SMOTE\n",
    "\n",
    "from imblearn.pipeline import Pipeline\n",
    "\n",
    "# Change the file path based on your own configuration!!\n",
    "file_path = \"/home/arik/ML_Projects/Kaggle/Expresso Churn Prediction Challenge/\""
   ]
  },
  {
   "cell_type": "code",
   "execution_count": 2,
   "id": "028c861d-3a7d-4afe-9fdb-03dc8f541669",
   "metadata": {},
   "outputs": [],
   "source": [
    "# Parameter list \n",
    "pca_num = 50\n",
    "pca_svd_solver = 'arpack'\n",
    "best_solver_lr = 'newton-cg'\n",
    "best_penalty_lr = 'l2'\n",
    "best_C_lr = 0.5\n",
    "best_tol_lr = 0.1\n",
    "best_class_weight_lr = 'balanced'\n",
    "best_max_iter_lr = 25\n",
    "best_kfold = 9\n",
    "best_score = 0\n",
    "\n",
    "# lr model with best parameters \n",
    "lr = LogisticRegression(\n",
    "     solver=best_solver_lr,\n",
    "     tol = best_tol_lr,\n",
    "     C = best_C_lr,\n",
    "     class_weight = best_class_weight_lr,\n",
    "     max_iter = best_max_iter_lr,\n",
    "     penalty = best_penalty_lr,\n",
    "     random_state=42)\n",
    "\n",
    "#Logistic regression hyper-parameter tuning.\n",
    "solver_lr_list = ['newton-cg', 'lbfgs', 'liblinear', 'sag', 'saga']\n",
    "penalty_lr_list = ['l2']\n",
    "C_lr_list = [0.5, 0.75, 1.0, 1.25, 1.50, 1.75, 2.0]\n",
    "tol_lr_list = [1e-6, 1e-4, 1e-3, 1e-2, 0.1, 0.3, 0.5]\n",
    "class_weight_lr_list = [None, 'balanced']\n",
    "max_iter_lr_list = [25, 50, 100]"
   ]
  },
  {
   "cell_type": "code",
   "execution_count": 3,
   "id": "34af499d-6eb0-4c70-b36d-fb6aa8795ce3",
   "metadata": {},
   "outputs": [],
   "source": [
    "# Let's load the data.\n",
    "train = pd.read_csv(file_path + \"data/train_prunned.csv\", encoding='cp1252')\n",
    "test = pd.read_csv(file_path + \"data/test_prunned.csv\", encoding='cp1252')\n",
    "variable_definitions = pd.read_csv(file_path + \"data/VariableDefinitions.csv\")"
   ]
  },
  {
   "cell_type": "code",
   "execution_count": 4,
   "id": "7700698f-6297-4f73-b5c5-d4d6d8eb5325",
   "metadata": {},
   "outputs": [
    {
     "data": {
      "text/html": [
       "<div>\n",
       "<style scoped>\n",
       "    .dataframe tbody tr th:only-of-type {\n",
       "        vertical-align: middle;\n",
       "    }\n",
       "\n",
       "    .dataframe tbody tr th {\n",
       "        vertical-align: top;\n",
       "    }\n",
       "\n",
       "    .dataframe thead th {\n",
       "        text-align: right;\n",
       "    }\n",
       "</style>\n",
       "<table border=\"1\" class=\"dataframe\">\n",
       "  <thead>\n",
       "    <tr style=\"text-align: right;\">\n",
       "      <th></th>\n",
       "      <th>Variable Definitions</th>\n",
       "      <th>Unnamed: 1</th>\n",
       "      <th>Unnamed: 2</th>\n",
       "    </tr>\n",
       "  </thead>\n",
       "  <tbody>\n",
       "    <tr>\n",
       "      <th>0</th>\n",
       "      <td>NaN</td>\n",
       "      <td>French</td>\n",
       "      <td>English</td>\n",
       "    </tr>\n",
       "    <tr>\n",
       "      <th>1</th>\n",
       "      <td>NaN</td>\n",
       "      <td>Le dataset churn comprend 19 variables dont 15...</td>\n",
       "      <td>The churn dataset includes 19 variables includ...</td>\n",
       "    </tr>\n",
       "    <tr>\n",
       "      <th>2</th>\n",
       "      <td>user_id</td>\n",
       "      <td>NaN</td>\n",
       "      <td>NaN</td>\n",
       "    </tr>\n",
       "    <tr>\n",
       "      <th>3</th>\n",
       "      <td>REGION</td>\n",
       "      <td>la localité de chaque client</td>\n",
       "      <td>the location of each client</td>\n",
       "    </tr>\n",
       "    <tr>\n",
       "      <th>4</th>\n",
       "      <td>TENURE</td>\n",
       "      <td>la durée dans le reseau</td>\n",
       "      <td>duration in the network</td>\n",
       "    </tr>\n",
       "    <tr>\n",
       "      <th>5</th>\n",
       "      <td>MONTANT</td>\n",
       "      <td>montant de recharge</td>\n",
       "      <td>top-up amount</td>\n",
       "    </tr>\n",
       "    <tr>\n",
       "      <th>6</th>\n",
       "      <td>FREQUENCE_RECH</td>\n",
       "      <td>nombre de fois que le client a fait une recharge</td>\n",
       "      <td>number of times the customer refilled</td>\n",
       "    </tr>\n",
       "    <tr>\n",
       "      <th>7</th>\n",
       "      <td>REVENUE</td>\n",
       "      <td>revenu mensuel de chaque client</td>\n",
       "      <td>monthly income of each client</td>\n",
       "    </tr>\n",
       "    <tr>\n",
       "      <th>8</th>\n",
       "      <td>ARPU_SEGMENT</td>\n",
       "      <td>revenu sur 90 jours/3</td>\n",
       "      <td>income over 90 days / 3</td>\n",
       "    </tr>\n",
       "    <tr>\n",
       "      <th>9</th>\n",
       "      <td>FREQUENCE</td>\n",
       "      <td>nombre de fois que client à fait un revenu</td>\n",
       "      <td>number of times the client has made an income</td>\n",
       "    </tr>\n",
       "    <tr>\n",
       "      <th>10</th>\n",
       "      <td>DATA_VOLUME</td>\n",
       "      <td>nombre de connexions</td>\n",
       "      <td>number of connections</td>\n",
       "    </tr>\n",
       "    <tr>\n",
       "      <th>11</th>\n",
       "      <td>ON_NET</td>\n",
       "      <td>appel inter expresso</td>\n",
       "      <td>inter expresso call</td>\n",
       "    </tr>\n",
       "    <tr>\n",
       "      <th>12</th>\n",
       "      <td>ORANGE</td>\n",
       "      <td>appel vers orange</td>\n",
       "      <td>call to orange</td>\n",
       "    </tr>\n",
       "    <tr>\n",
       "      <th>13</th>\n",
       "      <td>TIGO</td>\n",
       "      <td>appel vers Tigo</td>\n",
       "      <td>call to Tigo</td>\n",
       "    </tr>\n",
       "    <tr>\n",
       "      <th>14</th>\n",
       "      <td>ZONE1</td>\n",
       "      <td>appel vers les zone1</td>\n",
       "      <td>call to zones1</td>\n",
       "    </tr>\n",
       "    <tr>\n",
       "      <th>15</th>\n",
       "      <td>ZONE2</td>\n",
       "      <td>appel vers les zone2</td>\n",
       "      <td>call to zones2</td>\n",
       "    </tr>\n",
       "  </tbody>\n",
       "</table>\n",
       "</div>"
      ],
      "text/plain": [
       "   Variable Definitions                                         Unnamed: 1  \\\n",
       "0                   NaN                                             French   \n",
       "1                   NaN  Le dataset churn comprend 19 variables dont 15...   \n",
       "2               user_id                                                NaN   \n",
       "3                REGION                       la localité de chaque client   \n",
       "4                TENURE                            la durée dans le reseau   \n",
       "5               MONTANT                                montant de recharge   \n",
       "6        FREQUENCE_RECH   nombre de fois que le client a fait une recharge   \n",
       "7               REVENUE                    revenu mensuel de chaque client   \n",
       "8          ARPU_SEGMENT                              revenu sur 90 jours/3   \n",
       "9             FREQUENCE         nombre de fois que client à fait un revenu   \n",
       "10          DATA_VOLUME                               nombre de connexions   \n",
       "11               ON_NET                               appel inter expresso   \n",
       "12               ORANGE                                  appel vers orange   \n",
       "13                 TIGO                                    appel vers Tigo   \n",
       "14                ZONE1                               appel vers les zone1   \n",
       "15                ZONE2                               appel vers les zone2   \n",
       "\n",
       "                                           Unnamed: 2  \n",
       "0                                             English  \n",
       "1   The churn dataset includes 19 variables includ...  \n",
       "2                                                 NaN  \n",
       "3                         the location of each client  \n",
       "4                             duration in the network  \n",
       "5                                       top-up amount  \n",
       "6               number of times the customer refilled  \n",
       "7                       monthly income of each client  \n",
       "8                             income over 90 days / 3  \n",
       "9       number of times the client has made an income  \n",
       "10                              number of connections  \n",
       "11                                inter expresso call  \n",
       "12                                     call to orange  \n",
       "13                                       call to Tigo  \n",
       "14                                     call to zones1  \n",
       "15                                     call to zones2  "
      ]
     },
     "execution_count": 4,
     "metadata": {},
     "output_type": "execute_result"
    }
   ],
   "source": [
    "# Variable defitions are given in here that could be useful to consider the variables.\n",
    "variable_definitions.head(train.shape[1])"
   ]
  },
  {
   "cell_type": "code",
   "execution_count": 5,
   "id": "5e77543e-731b-4fb6-ae32-cc2f6ef1fec9",
   "metadata": {},
   "outputs": [],
   "source": [
    "# Keep user_id feature of the test data for the submission file.\n",
    "train.drop(\"user_id\", axis = 1, inplace = True)\n",
    "user_ids = test[\"user_id\"]\n",
    "test.drop(\"user_id\", axis = 1, inplace = True)"
   ]
  },
  {
   "cell_type": "code",
   "execution_count": 6,
   "id": "16bf7f40-5318-4efb-a4fc-ee775eb9fe39",
   "metadata": {},
   "outputs": [
    {
     "data": {
      "text/plain": [
       "{'1500=Unlimited7Day',\n",
       " '150=unlimited pilot auto',\n",
       " '200=unlimited pilot auto',\n",
       " 'APANews_monthly',\n",
       " 'APANews_weekly',\n",
       " 'All-net 500= 4000off+4000on;24H',\n",
       " 'CVM_100F_unlimited',\n",
       " 'CVM_100f=200 MB',\n",
       " 'CVM_100f=500 onNet',\n",
       " 'CVM_150F_unlimited',\n",
       " 'CVM_500f=2GB',\n",
       " 'CVM_On-net 1300f=12500',\n",
       " 'CVM_On-net 400f=2200F',\n",
       " 'Data:1000F=700MB,7d',\n",
       " 'Data:New-GPRS_PKG_1500F',\n",
       " 'Data:OneTime_Pilot_1.5GB',\n",
       " 'Data_Mifi_10Go',\n",
       " 'Data_Mifi_10Go_Monthly',\n",
       " 'Data_Mifi_20Go',\n",
       " 'ESN_POSTPAID_CLASSIC_RENT',\n",
       " 'EVC_1Go',\n",
       " 'EVC_4900=12000F',\n",
       " 'EVC_700Mo',\n",
       " 'EVC_MEGA10000F',\n",
       " 'FIFA_TS_monthly',\n",
       " 'FIFA_TS_weekly',\n",
       " 'GPRS_3000Equal10GPORTAL',\n",
       " 'GPRS_5Go_7D_PORTAL',\n",
       " 'GPRS_BKG_1000F MIFI',\n",
       " 'GPRS_PKG_5GO_ILLIMITE',\n",
       " 'Go-NetPro-4 Go',\n",
       " 'MegaChrono_3000F=12500F TOUS RESEAUX',\n",
       " 'NEW_CLIR_TEMPALLOWED_LIBERTE_MOBILE',\n",
       " 'NEW_CLIR_TEMPRESTRICTED_LIBERTE_MOBILE',\n",
       " 'Package3_Monthly',\n",
       " 'SMS Max',\n",
       " 'YMGX on-net 100=700F, 24H',\n",
       " 'pilot_offer4',\n",
       " 'pilot_offer5',\n",
       " 'pilot_offer7'}"
      ]
     },
     "execution_count": 6,
     "metadata": {},
     "output_type": "execute_result"
    }
   ],
   "source": [
    "# Differences between TOP_PACK values of test and train sets can be problematic since we will use one-hot encoding for the categorical features.\n",
    "set(train.TOP_PACK.unique()) - set(test.TOP_PACK.unique())"
   ]
  },
  {
   "cell_type": "code",
   "execution_count": 7,
   "id": "30844b9a-b9c5-47c3-b922-2d41958288cb",
   "metadata": {},
   "outputs": [
    {
     "data": {
      "text/plain": [
       "{'EVC_1000=6000 F', 'EVC_PACK_2.2Go'}"
      ]
     },
     "execution_count": 7,
     "metadata": {},
     "output_type": "execute_result"
    }
   ],
   "source": [
    "# Differences between TOP_PACK values of test and train sets can be problematic since we will use one-hot encoding for the categorical features.\n",
    "set(test.TOP_PACK.unique()) - set(train.TOP_PACK.unique())"
   ]
  },
  {
   "cell_type": "code",
   "execution_count": 8,
   "id": "de432fe4-2c72-436f-af04-90a46a5870db",
   "metadata": {},
   "outputs": [],
   "source": [
    "# Standardizing string values of top_pack feature in order to control the variance for the feature by stripping blanks and special characters and making values uppercase.\n",
    "train[\"TOP_PACK\"] = train[\"TOP_PACK\"].str.upper().replace('[^A-Za-z0-9]+', '', regex=True)\n",
    "test[\"TOP_PACK\"] = test[\"TOP_PACK\"].str.upper().replace('[^A-Za-z0-9]+', '', regex=True)"
   ]
  },
  {
   "cell_type": "code",
   "execution_count": 9,
   "id": "7e804b84-e285-4c9d-9c80-a789838bb532",
   "metadata": {},
   "outputs": [],
   "source": [
    "# There are unseen features after the one hot encoding for both  of train and test data, therefore these differences should be eliminated for feature alignment.\n",
    "# Lets make our lists for the elimination ready for both train and test data.\n",
    "train_top_pack_diff = list(set(train[\"TOP_PACK\"].unique()) - set(test[\"TOP_PACK\"].unique()))\n",
    "test_top_pack_diff = list(set(test[\"TOP_PACK\"].unique()) - set(train[\"TOP_PACK\"].unique()))\n",
    "train_top_pack_diff = \"TOP_PACK_\" + pd.Series(train_top_pack_diff)\n",
    "test_top_pack_diff = \"TOP_PACK_\" + pd.Series(test_top_pack_diff)"
   ]
  },
  {
   "cell_type": "code",
   "execution_count": 10,
   "id": "2af80680-0b15-40be-99be-0b8effba3ca7",
   "metadata": {},
   "outputs": [],
   "source": [
    "# Fill null values for categorical features, advanced methods such as imputation with regression can be considered for the future.\n",
    "#train.drop(\"MRG\", axis = 1, inplace = True)\n",
    "#test.drop(\"MRG\", axis = 1, inplace = True)\n",
    "train[\"REGION\"] = train[\"REGION\"].fillna(\"other_region\")\n",
    "train[\"TENURE\"] = train[\"TENURE\"].fillna(\"other_TENURE\")\n",
    "train[\"TOP_PACK\"] = train[\"TOP_PACK\"].fillna(\"other_TOP_PACK\")\n",
    "test[\"REGION\"] = test[\"REGION\"].fillna(\"other_region\")\n",
    "test[\"TENURE\"] = test[\"TENURE\"].fillna(\"other_TENURE\")\n",
    "test[\"TOP_PACK\"] = test[\"TOP_PACK\"].fillna(\"other_TOP_PACK\")"
   ]
  },
  {
   "cell_type": "code",
   "execution_count": 11,
   "id": "5c630e9c-32f7-4917-9a53-3d86d7ddfb75",
   "metadata": {},
   "outputs": [
    {
     "data": {
      "text/plain": [
       "<bound method hist_series of DAKAR           448467\n",
       "other_region    300891\n",
       "THIES           153115\n",
       "SAINT-LOUIS     105522\n",
       "LOUGA            82682\n",
       "KAOLACK          80662\n",
       "DIOURBEL         49846\n",
       "TAMBACOUNDA      48408\n",
       "KAFFRINE         36993\n",
       "KOLDA            33719\n",
       "FATICK           29596\n",
       "MATAM            24345\n",
       "ZIGUINCHOR       18309\n",
       "SEDHIOU           2517\n",
       "KEDOUGOU           801\n",
       "Name: REGION, dtype: int64>"
      ]
     },
     "execution_count": 11,
     "metadata": {},
     "output_type": "execute_result"
    }
   ],
   "source": [
    "#other_region(NULL) values are the most frequent ones, which can cause performance problems for given feature. Roughly 850k/2M.\n",
    "train.REGION.value_counts().hist"
   ]
  },
  {
   "cell_type": "code",
   "execution_count": 12,
   "id": "b66b316e-d931-4e59-a9a0-139779e4515f",
   "metadata": {},
   "outputs": [],
   "source": [
    "# Converting categorical variables to numeric ones using one-hot encoding.\n",
    "train = pd.get_dummies(train)\n",
    "test = pd.get_dummies(test)"
   ]
  },
  {
   "cell_type": "code",
   "execution_count": 13,
   "id": "af6ad6b6-4807-4283-af95-dd246e795dbd",
   "metadata": {},
   "outputs": [],
   "source": [
    "# Dropping the missing features for both train and test data for feature synchronization.\n",
    "train.drop(list(train_top_pack_diff), axis = 1, inplace = True)\n",
    "test.drop(list(test_top_pack_diff), axis = 1, inplace = True)"
   ]
  },
  {
   "cell_type": "markdown",
   "id": "09af8d57-0faf-4750-8610-ca65c8a09b7b",
   "metadata": {},
   "source": [
    "# Time to move for the numeric features."
   ]
  },
  {
   "cell_type": "code",
   "execution_count": 14,
   "id": "0d5e80c4-66ed-4fb2-b7f5-ede789514037",
   "metadata": {},
   "outputs": [
    {
     "data": {
      "text/plain": [
       "0    1350220\n",
       "1      65653\n",
       "Name: CHURN, dtype: int64"
      ]
     },
     "execution_count": 14,
     "metadata": {},
     "output_type": "execute_result"
    }
   ],
   "source": [
    "#Obviously the data is imbalanced, therefore we got to look out for generalization issue here.\n",
    "train.CHURN.value_counts()"
   ]
  },
  {
   "cell_type": "code",
   "execution_count": 15,
   "id": "933be6de-562a-4121-a796-7ec19a61160e",
   "metadata": {},
   "outputs": [
    {
     "data": {
      "text/plain": [
       "<AxesSubplot:>"
      ]
     },
     "execution_count": 15,
     "metadata": {},
     "output_type": "execute_result"
    },
    {
     "data": {
      "image/png": "[encoded data removed]",
      "text/plain": [
       "<Figure size 432x288 with 1 Axes>"
      ]
     },
     "metadata": {
      "needs_background": "light"
     },
     "output_type": "display_data"
    }
   ],
   "source": [
    "train.MONTANT.hist()"
   ]
  },
  {
   "cell_type": "code",
   "execution_count": 16,
   "id": "e87cc373-4f04-4747-90dc-372cc8433fa2",
   "metadata": {},
   "outputs": [
    {
     "data": {
      "text/plain": [
       "<AxesSubplot:>"
      ]
     },
     "execution_count": 16,
     "metadata": {},
     "output_type": "execute_result"
    },
    {
     "data": {
      "image/png": "[encoded data removed]",
      "text/plain": [
       "<Figure size 432x288 with 1 Axes>"
      ]
     },
     "metadata": {
      "needs_background": "light"
     },
     "output_type": "display_data"
    }
   ],
   "source": [
    "test.MONTANT.hist()"
   ]
  },
  {
   "cell_type": "code",
   "execution_count": 17,
   "id": "0df74030-c8c3-4e03-abae-6be8f8609386",
   "metadata": {},
   "outputs": [
    {
     "data": {
      "text/plain": [
       "500.0      107898\n",
       "1000.0      81992\n",
       "1500.0      48646\n",
       "2000.0      46035\n",
       "3000.0      34792\n",
       "            ...  \n",
       "33512.0         1\n",
       "33508.0         1\n",
       "325.0           1\n",
       "33420.0         1\n",
       "8195.0          1\n",
       "Name: MONTANT, Length: 6531, dtype: int64"
      ]
     },
     "execution_count": 17,
     "metadata": {},
     "output_type": "execute_result"
    }
   ],
   "source": [
    "train.MONTANT.value_counts()"
   ]
  },
  {
   "cell_type": "code",
   "execution_count": 18,
   "id": "c45e9452-f6c2-4a40-ab8d-d5c5ab844b52",
   "metadata": {},
   "outputs": [
    {
     "data": {
      "text/plain": [
       "500.0      19989\n",
       "1000.0     14638\n",
       "1500.0      8433\n",
       "2000.0      8174\n",
       "200.0       7107\n",
       "           ...  \n",
       "49150.0        1\n",
       "24590.0        1\n",
       "6159.0         1\n",
       "1540.0         1\n",
       "8192.0         1\n",
       "Name: MONTANT, Length: 2431, dtype: int64"
      ]
     },
     "execution_count": 18,
     "metadata": {},
     "output_type": "execute_result"
    }
   ],
   "source": [
    "test.MONTANT.value_counts()"
   ]
  },
  {
   "cell_type": "code",
   "execution_count": 19,
   "id": "3ee68091-4f91-4083-b9eb-f75a7850aeea",
   "metadata": {},
   "outputs": [
    {
     "data": {
      "text/plain": [
       "False    1378641\n",
       "True       37232\n",
       "Name: MONTANT, dtype: int64"
      ]
     },
     "execution_count": 19,
     "metadata": {},
     "output_type": "execute_result"
    }
   ],
   "source": [
    "train.MONTANT.isna().value_counts()"
   ]
  },
  {
   "cell_type": "code",
   "execution_count": 20,
   "id": "d916aa3f-d84f-405f-8cd9-f3798dc7e137",
   "metadata": {},
   "outputs": [
    {
     "data": {
      "text/plain": [
       "False    247072\n",
       "True     133055\n",
       "Name: MONTANT, dtype: int64"
      ]
     },
     "execution_count": 20,
     "metadata": {},
     "output_type": "execute_result"
    }
   ],
   "source": [
    "test.MONTANT.isna().value_counts()"
   ]
  },
  {
   "cell_type": "code",
   "execution_count": 21,
   "id": "8b6a4744-67fd-4584-b567-27ab0878bf8a",
   "metadata": {},
   "outputs": [],
   "source": [
    "# Lets try to align the maximum values of MONTANT feature of the train data by reducing row that surpasses maximum value of the test data and not lose TP Churn cases.\n",
    "train = train[((train.MONTANT <=test.MONTANT.max()) & (train.CHURN == 0)) | train.CHURN == 1]"
   ]
  },
  {
   "cell_type": "code",
   "execution_count": 22,
   "id": "e0d8b71c-8fc7-4fe2-845b-601e1bb8dbe2",
   "metadata": {},
   "outputs": [
    {
     "data": {
      "text/plain": [
       "False    1378622\n",
       "True        3914\n",
       "Name: MONTANT, dtype: int64"
      ]
     },
     "execution_count": 22,
     "metadata": {},
     "output_type": "execute_result"
    }
   ],
   "source": [
    "# The data got reduced from rougly 2M to 1.7M, all non-churn cases that surpasses the maximum number of the test MONTANT feature got eliminated.\n",
    "train.MONTANT.isna().value_counts()"
   ]
  },
  {
   "cell_type": "code",
   "execution_count": 23,
   "id": "e5e721a2-b51e-47e3-8847-8a6b7b6b60aa",
   "metadata": {},
   "outputs": [
    {
     "data": {
      "text/plain": [
       "False    247072\n",
       "True     133055\n",
       "Name: MONTANT, dtype: int64"
      ]
     },
     "execution_count": 23,
     "metadata": {},
     "output_type": "execute_result"
    }
   ],
   "source": [
    "test.MONTANT.isna().value_counts()"
   ]
  },
  {
   "cell_type": "code",
   "execution_count": 24,
   "id": "d37f0280-9c64-475d-8df7-3c50ac37676c",
   "metadata": {},
   "outputs": [
    {
     "data": {
      "text/plain": [
       "3100.0"
      ]
     },
     "execution_count": 24,
     "metadata": {},
     "output_type": "execute_result"
    }
   ],
   "source": [
    "train.MONTANT.median()"
   ]
  },
  {
   "cell_type": "code",
   "execution_count": 25,
   "id": "c934a0ee-b875-4526-8a04-9eca624dc62e",
   "metadata": {},
   "outputs": [
    {
     "data": {
      "text/plain": [
       "3000.0"
      ]
     },
     "execution_count": 25,
     "metadata": {},
     "output_type": "execute_result"
    }
   ],
   "source": [
    "test.MONTANT.median()"
   ]
  },
  {
   "cell_type": "code",
   "execution_count": 26,
   "id": "655f2cb5-ba0a-444b-bdfa-5c09ffb239e7",
   "metadata": {},
   "outputs": [],
   "source": [
    "# I will impute missing values of the numeric features by using their median, since train and test data seem to have close median values.\n",
    "train.MONTANT.fillna(train.MONTANT.median(), inplace = True)"
   ]
  },
  {
   "cell_type": "code",
   "execution_count": 27,
   "id": "9812b84e-bfd8-4808-936f-07012a7bfec4",
   "metadata": {},
   "outputs": [],
   "source": [
    "test.MONTANT.fillna(test.MONTANT.median(), inplace = True)"
   ]
  },
  {
   "cell_type": "code",
   "execution_count": 28,
   "id": "07c3283f-5dc3-4a5b-b66b-0488ef9dda92",
   "metadata": {},
   "outputs": [],
   "source": [
    "# In order to normalize the numeric fields for the regression, I will use min-max scaler and normalize the features for both train and test data between 0-1.\n",
    "scaler = MinMaxScaler()\n",
    "train.MONTANT = scaler.fit_transform(np.array(train.MONTANT).reshape(-1,1))\n",
    "test.MONTANT = scaler.fit_transform(np.array(test.MONTANT).reshape(-1,1))"
   ]
  },
  {
   "cell_type": "code",
   "execution_count": 29,
   "id": "a5cd2f8d-9b8d-47de-9df7-b1718d196a93",
   "metadata": {},
   "outputs": [
    {
     "data": {
      "text/plain": [
       "<AxesSubplot:>"
      ]
     },
     "execution_count": 29,
     "metadata": {},
     "output_type": "execute_result"
    },
    {
     "data": {
      "image/png": "[encoded data removed]",
      "text/plain": [
       "<Figure size 432x288 with 1 Axes>"
      ]
     },
     "metadata": {
      "needs_background": "light"
     },
     "output_type": "display_data"
    }
   ],
   "source": [
    "train.FREQUENCE_RECH.hist()"
   ]
  },
  {
   "cell_type": "code",
   "execution_count": 30,
   "id": "f762398b-2014-4c92-8174-d65187e88963",
   "metadata": {},
   "outputs": [
    {
     "data": {
      "text/plain": [
       "<AxesSubplot:>"
      ]
     },
     "execution_count": 30,
     "metadata": {},
     "output_type": "execute_result"
    },
    {
     "data": {
      "image/png": "[encoded data removed]",
      "text/plain": [
       "<Figure size 432x288 with 1 Axes>"
      ]
     },
     "metadata": {
      "needs_background": "light"
     },
     "output_type": "display_data"
    }
   ],
   "source": [
    "test.FREQUENCE_RECH.hist()"
   ]
  },
  {
   "cell_type": "code",
   "execution_count": 31,
   "id": "e4ea3afe-3dff-4fec-821a-513689e1e6d3",
   "metadata": {},
   "outputs": [
    {
     "data": {
      "text/plain": [
       "False    1378622\n",
       "True        3914\n",
       "Name: FREQUENCE_RECH, dtype: int64"
      ]
     },
     "execution_count": 31,
     "metadata": {},
     "output_type": "execute_result"
    }
   ],
   "source": [
    "train.FREQUENCE_RECH.isna().value_counts()"
   ]
  },
  {
   "cell_type": "code",
   "execution_count": 32,
   "id": "fe9cd6eb-c697-4334-abbd-12792ed61495",
   "metadata": {},
   "outputs": [
    {
     "data": {
      "text/plain": [
       "False    247072\n",
       "True     133055\n",
       "Name: FREQUENCE_RECH, dtype: int64"
      ]
     },
     "execution_count": 32,
     "metadata": {},
     "output_type": "execute_result"
    }
   ],
   "source": [
    "test.FREQUENCE_RECH.isna().value_counts()"
   ]
  },
  {
   "cell_type": "code",
   "execution_count": 33,
   "id": "7ca56d3d-8b4a-4c07-a1c6-7726d8c6132b",
   "metadata": {},
   "outputs": [
    {
     "data": {
      "text/plain": [
       "7.0"
      ]
     },
     "execution_count": 33,
     "metadata": {},
     "output_type": "execute_result"
    }
   ],
   "source": [
    "train.FREQUENCE_RECH.median()"
   ]
  },
  {
   "cell_type": "code",
   "execution_count": 34,
   "id": "c8d1b355-b6f6-498a-9a55-fe1903eade31",
   "metadata": {},
   "outputs": [
    {
     "data": {
      "text/plain": [
       "7.0"
      ]
     },
     "execution_count": 34,
     "metadata": {},
     "output_type": "execute_result"
    }
   ],
   "source": [
    "test.FREQUENCE_RECH.median()"
   ]
  },
  {
   "cell_type": "code",
   "execution_count": 35,
   "id": "aeb3b391-7800-4b39-bb12-c496c33360eb",
   "metadata": {},
   "outputs": [],
   "source": [
    "train.FREQUENCE_RECH = scaler.fit_transform(np.array(train.FREQUENCE_RECH).reshape(-1,1))\n",
    "test.FREQUENCE_RECH = scaler.fit_transform(np.array(test.FREQUENCE_RECH).reshape(-1,1))"
   ]
  },
  {
   "cell_type": "code",
   "execution_count": 36,
   "id": "f9ec38de-6761-49f8-aa2e-b070370a61e2",
   "metadata": {},
   "outputs": [
    {
     "data": {
      "text/plain": [
       "<AxesSubplot:>"
      ]
     },
     "execution_count": 36,
     "metadata": {},
     "output_type": "execute_result"
    },
    {
     "data": {
      "image/png": "[encoded data removed]",
      "text/plain": [
       "<Figure size 432x288 with 1 Axes>"
      ]
     },
     "metadata": {
      "needs_background": "light"
     },
     "output_type": "display_data"
    }
   ],
   "source": [
    "train.REVENUE.hist()"
   ]
  },
  {
   "cell_type": "code",
   "execution_count": 37,
   "id": "8f71010a-50b8-4fa3-908a-ad8d82d331b1",
   "metadata": {},
   "outputs": [
    {
     "data": {
      "text/plain": [
       "<AxesSubplot:>"
      ]
     },
     "execution_count": 37,
     "metadata": {},
     "output_type": "execute_result"
    },
    {
     "data": {
      "image/png": "[encoded data removed]",
      "text/plain": [
       "<Figure size 432x288 with 1 Axes>"
      ]
     },
     "metadata": {
      "needs_background": "light"
     },
     "output_type": "display_data"
    }
   ],
   "source": [
    "test.REVENUE.hist()"
   ]
  },
  {
   "cell_type": "code",
   "execution_count": 38,
   "id": "55ccc69a-b302-4229-8942-e21dc355a7f8",
   "metadata": {},
   "outputs": [
    {
     "data": {
      "text/plain": [
       "False    1378924\n",
       "True        3612\n",
       "Name: REVENUE, dtype: int64"
      ]
     },
     "execution_count": 38,
     "metadata": {},
     "output_type": "execute_result"
    }
   ],
   "source": [
    "train.REVENUE.isna().value_counts()"
   ]
  },
  {
   "cell_type": "code",
   "execution_count": 39,
   "id": "11556281-082b-4947-9423-7200cd6110ef",
   "metadata": {},
   "outputs": [
    {
     "data": {
      "text/plain": [
       "False    252754\n",
       "True     127373\n",
       "Name: REVENUE, dtype: int64"
      ]
     },
     "execution_count": 39,
     "metadata": {},
     "output_type": "execute_result"
    }
   ],
   "source": [
    "test.REVENUE.isna().value_counts()"
   ]
  },
  {
   "cell_type": "code",
   "execution_count": 40,
   "id": "b2b11fb9-05af-4d13-906e-8df171c5af29",
   "metadata": {},
   "outputs": [],
   "source": [
    "train = train[((train.REVENUE <=test.REVENUE.max()) & (train.REVENUE == 0)) | train.REVENUE == 1]"
   ]
  },
  {
   "cell_type": "code",
   "execution_count": 41,
   "id": "b140c30c-f0c8-4901-92cf-9d05495c4d58",
   "metadata": {},
   "outputs": [
    {
     "data": {
      "text/plain": [
       "False    1378924\n",
       "Name: REVENUE, dtype: int64"
      ]
     },
     "execution_count": 41,
     "metadata": {},
     "output_type": "execute_result"
    }
   ],
   "source": [
    "train.REVENUE.isna().value_counts()"
   ]
  },
  {
   "cell_type": "code",
   "execution_count": 42,
   "id": "7de68cf0-40e3-41c6-921f-dea130c71c92",
   "metadata": {},
   "outputs": [
    {
     "data": {
      "text/plain": [
       "3200.0"
      ]
     },
     "execution_count": 42,
     "metadata": {},
     "output_type": "execute_result"
    }
   ],
   "source": [
    "train.REVENUE.median()"
   ]
  },
  {
   "cell_type": "code",
   "execution_count": 43,
   "id": "f86fbc52-b2b6-4da9-a303-0f9f99d769e3",
   "metadata": {},
   "outputs": [
    {
     "data": {
      "text/plain": [
       "3000.0"
      ]
     },
     "execution_count": 43,
     "metadata": {},
     "output_type": "execute_result"
    }
   ],
   "source": [
    "test.REVENUE.median()"
   ]
  },
  {
   "cell_type": "code",
   "execution_count": 44,
   "id": "6b6865fe-6d04-4c5c-9ea1-316a43e16895",
   "metadata": {},
   "outputs": [],
   "source": [
    "train.REVENUE = scaler.fit_transform(np.array(train.REVENUE).reshape(-1,1))\n",
    "test.REVENUE = scaler.fit_transform(np.array(test.REVENUE).reshape(-1,1))\n"
   ]
  },
  {
   "cell_type": "code",
   "execution_count": 45,
   "id": "876a22c7-e749-4dac-b62a-ab1901fd1c57",
   "metadata": {},
   "outputs": [],
   "source": [
    "test.REVENUE.fillna(test.REVENUE.median(), inplace=True)"
   ]
  },
  {
   "cell_type": "code",
   "execution_count": 46,
   "id": "cdc4d094-bfb0-4e8a-9277-dd7498b2e8dc",
   "metadata": {},
   "outputs": [
    {
     "data": {
      "text/plain": [
       "<AxesSubplot:>"
      ]
     },
     "execution_count": 46,
     "metadata": {},
     "output_type": "execute_result"
    },
    {
     "data": {
      "image/png": "[encoded data removed]",
      "text/plain": [
       "<Figure size 432x288 with 1 Axes>"
      ]
     },
     "metadata": {
      "needs_background": "light"
     },
     "output_type": "display_data"
    }
   ],
   "source": [
    "train.ARPU_SEGMENT.hist()"
   ]
  },
  {
   "cell_type": "code",
   "execution_count": 47,
   "id": "45c335bd-d681-41b5-a7bb-774f61cb9016",
   "metadata": {},
   "outputs": [
    {
     "data": {
      "text/plain": [
       "<AxesSubplot:>"
      ]
     },
     "execution_count": 47,
     "metadata": {},
     "output_type": "execute_result"
    },
    {
     "data": {
      "image/png": "[encoded data removed]",
      "text/plain": [
       "<Figure size 432x288 with 1 Axes>"
      ]
     },
     "metadata": {
      "needs_background": "light"
     },
     "output_type": "display_data"
    }
   ],
   "source": [
    "test.ARPU_SEGMENT.hist()"
   ]
  },
  {
   "cell_type": "code",
   "execution_count": 48,
   "id": "b3fba14b-e1b7-403d-83bb-692f940dcae0",
   "metadata": {},
   "outputs": [
    {
     "data": {
      "text/plain": [
       "False    1378924\n",
       "Name: ARPU_SEGMENT, dtype: int64"
      ]
     },
     "execution_count": 48,
     "metadata": {},
     "output_type": "execute_result"
    }
   ],
   "source": [
    "train.ARPU_SEGMENT.isna().value_counts()"
   ]
  },
  {
   "cell_type": "code",
   "execution_count": 49,
   "id": "b7c2cf44-632a-4a38-b451-b9e09047cc7d",
   "metadata": {},
   "outputs": [
    {
     "data": {
      "text/plain": [
       "False    252754\n",
       "True     127373\n",
       "Name: ARPU_SEGMENT, dtype: int64"
      ]
     },
     "execution_count": 49,
     "metadata": {},
     "output_type": "execute_result"
    }
   ],
   "source": [
    "test.ARPU_SEGMENT.isna().value_counts()"
   ]
  },
  {
   "cell_type": "code",
   "execution_count": 50,
   "id": "2e761f4e-8cad-4965-9072-acb7e6628c6e",
   "metadata": {},
   "outputs": [
    {
     "data": {
      "text/plain": [
       "1067.0"
      ]
     },
     "execution_count": 50,
     "metadata": {},
     "output_type": "execute_result"
    }
   ],
   "source": [
    "train.ARPU_SEGMENT.median()"
   ]
  },
  {
   "cell_type": "code",
   "execution_count": 51,
   "id": "223bcb54-91f5-471c-9d7c-5a47a4de70e8",
   "metadata": {},
   "outputs": [
    {
     "data": {
      "text/plain": [
       "1000.0"
      ]
     },
     "execution_count": 51,
     "metadata": {},
     "output_type": "execute_result"
    }
   ],
   "source": [
    "test.ARPU_SEGMENT.median()"
   ]
  },
  {
   "cell_type": "code",
   "execution_count": 52,
   "id": "83dfd960-1b88-4eb7-8035-1cef1794e00c",
   "metadata": {},
   "outputs": [],
   "source": [
    "test.ARPU_SEGMENT.fillna(test.ARPU_SEGMENT.median(), inplace = True)"
   ]
  },
  {
   "cell_type": "code",
   "execution_count": 53,
   "id": "68b3e19b-6a5e-4c72-8116-742a15f534fd",
   "metadata": {},
   "outputs": [],
   "source": [
    "train.ARPU_SEGMENT = scaler.fit_transform(np.array(train.ARPU_SEGMENT).reshape(-1,1))\n",
    "test.ARPU_SEGMENT = scaler.fit_transform(np.array(test.ARPU_SEGMENT).reshape(-1,1))\n"
   ]
  },
  {
   "cell_type": "code",
   "execution_count": 54,
   "id": "a0f3e35a-9918-46f5-a5cc-9c235b6495cc",
   "metadata": {},
   "outputs": [
    {
     "data": {
      "text/plain": [
       "<AxesSubplot:>"
      ]
     },
     "execution_count": 54,
     "metadata": {},
     "output_type": "execute_result"
    },
    {
     "data": {
      "image/png": "[encoded data removed]",
      "text/plain": [
       "<Figure size 432x288 with 1 Axes>"
      ]
     },
     "metadata": {
      "needs_background": "light"
     },
     "output_type": "display_data"
    }
   ],
   "source": [
    "train.FREQUENCE.hist()"
   ]
  },
  {
   "cell_type": "code",
   "execution_count": 55,
   "id": "7cdaa3d5-e067-4922-a181-f7ab0a216a0c",
   "metadata": {},
   "outputs": [
    {
     "data": {
      "text/plain": [
       "<AxesSubplot:>"
      ]
     },
     "execution_count": 55,
     "metadata": {},
     "output_type": "execute_result"
    },
    {
     "data": {
      "image/png": "[encoded data removed]",
      "text/plain": [
       "<Figure size 432x288 with 1 Axes>"
      ]
     },
     "metadata": {
      "needs_background": "light"
     },
     "output_type": "display_data"
    }
   ],
   "source": [
    "test.FREQUENCE.hist()"
   ]
  },
  {
   "cell_type": "code",
   "execution_count": 56,
   "id": "9a5483fe-f71f-41c7-b3bc-aee2030c832a",
   "metadata": {},
   "outputs": [
    {
     "data": {
      "text/plain": [
       "False    1378924\n",
       "Name: FREQUENCE, dtype: int64"
      ]
     },
     "execution_count": 56,
     "metadata": {},
     "output_type": "execute_result"
    }
   ],
   "source": [
    "train.FREQUENCE.isna().value_counts()"
   ]
  },
  {
   "cell_type": "code",
   "execution_count": 57,
   "id": "a0048212-4450-4a0a-ab41-f07de81b67c2",
   "metadata": {},
   "outputs": [
    {
     "data": {
      "text/plain": [
       "False    252754\n",
       "True     127373\n",
       "Name: FREQUENCE, dtype: int64"
      ]
     },
     "execution_count": 57,
     "metadata": {},
     "output_type": "execute_result"
    }
   ],
   "source": [
    "test.FREQUENCE.isna().value_counts()"
   ]
  },
  {
   "cell_type": "code",
   "execution_count": 58,
   "id": "1c4e80e4-ae15-4317-9c02-d6fbca80feef",
   "metadata": {},
   "outputs": [
    {
     "data": {
      "text/plain": [
       "9.0"
      ]
     },
     "execution_count": 58,
     "metadata": {},
     "output_type": "execute_result"
    }
   ],
   "source": [
    "train.FREQUENCE.median()"
   ]
  },
  {
   "cell_type": "code",
   "execution_count": 59,
   "id": "682d8ac0-9f62-4b04-91a7-14eeae909c5b",
   "metadata": {},
   "outputs": [
    {
     "data": {
      "text/plain": [
       "9.0"
      ]
     },
     "execution_count": 59,
     "metadata": {},
     "output_type": "execute_result"
    }
   ],
   "source": [
    "test.FREQUENCE.median()"
   ]
  },
  {
   "cell_type": "code",
   "execution_count": 60,
   "id": "cd880fd9-9bfa-453a-b3b5-9314988746d7",
   "metadata": {},
   "outputs": [],
   "source": [
    "test.FREQUENCE.fillna(test.FREQUENCE.median(), inplace = True)"
   ]
  },
  {
   "cell_type": "code",
   "execution_count": 61,
   "id": "1bb6a0ba-4f59-4d14-a97a-a953a2a25c34",
   "metadata": {},
   "outputs": [],
   "source": [
    "train.FREQUENCE = scaler.fit_transform(np.array(train.FREQUENCE).reshape(-1,1))\n",
    "test.FREQUENCE = scaler.fit_transform(np.array(test.FREQUENCE).reshape(-1,1))"
   ]
  },
  {
   "cell_type": "code",
   "execution_count": 62,
   "id": "beed9f31-0aab-40fb-90a9-20e0a0d5e4d1",
   "metadata": {},
   "outputs": [
    {
     "data": {
      "text/plain": [
       "<AxesSubplot:>"
      ]
     },
     "execution_count": 62,
     "metadata": {},
     "output_type": "execute_result"
    },
    {
     "data": {
      "image/png": "[encoded data removed]",
      "text/plain": [
       "<Figure size 432x288 with 1 Axes>"
      ]
     },
     "metadata": {
      "needs_background": "light"
     },
     "output_type": "display_data"
    }
   ],
   "source": [
    "train.FREQUENCE_RECH.hist()"
   ]
  },
  {
   "cell_type": "code",
   "execution_count": 63,
   "id": "a939f966-6f22-4dba-8c01-c003fdb1c126",
   "metadata": {},
   "outputs": [
    {
     "data": {
      "text/plain": [
       "<AxesSubplot:>"
      ]
     },
     "execution_count": 63,
     "metadata": {},
     "output_type": "execute_result"
    },
    {
     "data": {
      "image/png": "[encoded data removed]",
      "text/plain": [
       "<Figure size 432x288 with 1 Axes>"
      ]
     },
     "metadata": {
      "needs_background": "light"
     },
     "output_type": "display_data"
    }
   ],
   "source": [
    "test.FREQUENCE_RECH.hist()"
   ]
  },
  {
   "cell_type": "code",
   "execution_count": 64,
   "id": "178c1481-5374-4596-aa24-238b7709edc7",
   "metadata": {},
   "outputs": [
    {
     "data": {
      "text/plain": [
       "0.045454545454545456"
      ]
     },
     "execution_count": 64,
     "metadata": {},
     "output_type": "execute_result"
    }
   ],
   "source": [
    "train.FREQUENCE_RECH.median()"
   ]
  },
  {
   "cell_type": "code",
   "execution_count": 65,
   "id": "14c27337-b6ba-4f93-8e5f-53465108a1bd",
   "metadata": {},
   "outputs": [
    {
     "data": {
      "text/plain": [
       "0.041379310344827586"
      ]
     },
     "execution_count": 65,
     "metadata": {},
     "output_type": "execute_result"
    }
   ],
   "source": [
    "test.FREQUENCE_RECH.median()"
   ]
  },
  {
   "cell_type": "code",
   "execution_count": 66,
   "id": "a81864b1-0173-49c5-8bc7-4967bc30fef5",
   "metadata": {},
   "outputs": [],
   "source": [
    "train.FREQUENCE_RECH.fillna(train.FREQUENCE_RECH.median(), inplace = True)\n",
    "test.FREQUENCE_RECH.fillna(test.FREQUENCE_RECH.median(), inplace = True)\n"
   ]
  },
  {
   "cell_type": "code",
   "execution_count": 67,
   "id": "6dee61c1-a2b9-43ac-8a99-d005d1ac255e",
   "metadata": {},
   "outputs": [
    {
     "data": {
      "text/plain": [
       "<AxesSubplot:>"
      ]
     },
     "execution_count": 67,
     "metadata": {},
     "output_type": "execute_result"
    },
    {
     "data": {
      "image/png": "[encoded data removed]",
      "text/plain": [
       "<Figure size 432x288 with 1 Axes>"
      ]
     },
     "metadata": {
      "needs_background": "light"
     },
     "output_type": "display_data"
    }
   ],
   "source": [
    "train.FREQ_TOP_PACK.hist()"
   ]
  },
  {
   "cell_type": "code",
   "execution_count": 68,
   "id": "e4229967-e79b-4a26-bb9d-e6699eb413f3",
   "metadata": {},
   "outputs": [
    {
     "data": {
      "text/plain": [
       "<AxesSubplot:>"
      ]
     },
     "execution_count": 68,
     "metadata": {},
     "output_type": "execute_result"
    },
    {
     "data": {
      "image/png": "[encoded data removed]",
      "text/plain": [
       "<Figure size 432x288 with 1 Axes>"
      ]
     },
     "metadata": {
      "needs_background": "light"
     },
     "output_type": "display_data"
    }
   ],
   "source": [
    "test.FREQ_TOP_PACK.hist()"
   ]
  },
  {
   "cell_type": "code",
   "execution_count": 69,
   "id": "84101935-6c8b-4a04-918e-b73ff2bf7a66",
   "metadata": {},
   "outputs": [
    {
     "data": {
      "text/plain": [
       "5.0"
      ]
     },
     "execution_count": 69,
     "metadata": {},
     "output_type": "execute_result"
    }
   ],
   "source": [
    "train.FREQ_TOP_PACK.median()"
   ]
  },
  {
   "cell_type": "code",
   "execution_count": 70,
   "id": "dc90f535-6b16-4a21-8990-ed91fb75f2f7",
   "metadata": {},
   "outputs": [
    {
     "data": {
      "text/plain": [
       "5.0"
      ]
     },
     "execution_count": 70,
     "metadata": {},
     "output_type": "execute_result"
    }
   ],
   "source": [
    "test.FREQ_TOP_PACK.median()"
   ]
  },
  {
   "cell_type": "code",
   "execution_count": 71,
   "id": "79f7e573-11ce-4fc1-9cea-ac0721d0e6f6",
   "metadata": {},
   "outputs": [],
   "source": [
    "train.FREQ_TOP_PACK.fillna(train.FREQ_TOP_PACK.median(), inplace = True)\n",
    "test.FREQ_TOP_PACK.fillna(test.FREQ_TOP_PACK.median(), inplace = True)"
   ]
  },
  {
   "cell_type": "code",
   "execution_count": 72,
   "id": "349f12dd-3132-4d35-8970-e8ac0efd8661",
   "metadata": {},
   "outputs": [],
   "source": [
    "train.FREQ_TOP_PACK = scaler.fit_transform(np.array(train.FREQ_TOP_PACK).reshape(-1,1))\n",
    "test.FREQ_TOP_PACK = scaler.fit_transform(np.array(test.FREQ_TOP_PACK).reshape(-1,1))"
   ]
  },
  {
   "cell_type": "code",
   "execution_count": 73,
   "id": "0586c199-62c6-4c69-89c4-4a3561ba8c55",
   "metadata": {},
   "outputs": [
    {
     "data": {
      "text/plain": [
       "<AxesSubplot:>"
      ]
     },
     "execution_count": 73,
     "metadata": {},
     "output_type": "execute_result"
    },
    {
     "data": {
      "image/png": "[encoded data removed]",
      "text/plain": [
       "<Figure size 432x288 with 1 Axes>"
      ]
     },
     "metadata": {
      "needs_background": "light"
     },
     "output_type": "display_data"
    }
   ],
   "source": [
    "train.DATA_VOLUME.hist()"
   ]
  },
  {
   "cell_type": "code",
   "execution_count": 74,
   "id": "9dc8b9bf-2628-45bf-8bf1-5ba3dbe9ef07",
   "metadata": {},
   "outputs": [
    {
     "data": {
      "text/plain": [
       "<AxesSubplot:>"
      ]
     },
     "execution_count": 74,
     "metadata": {},
     "output_type": "execute_result"
    },
    {
     "data": {
      "image/png": "[encoded data removed]",
      "text/plain": [
       "<Figure size 432x288 with 1 Axes>"
      ]
     },
     "metadata": {
      "needs_background": "light"
     },
     "output_type": "display_data"
    }
   ],
   "source": [
    "test.DATA_VOLUME.hist()"
   ]
  },
  {
   "cell_type": "code",
   "execution_count": 75,
   "id": "a692bf68-8a3f-40ce-bb61-c5524a290d1e",
   "metadata": {},
   "outputs": [
    {
     "data": {
      "text/plain": [
       "501.0"
      ]
     },
     "execution_count": 75,
     "metadata": {},
     "output_type": "execute_result"
    }
   ],
   "source": [
    "train.DATA_VOLUME.median()"
   ]
  },
  {
   "cell_type": "code",
   "execution_count": 76,
   "id": "b938a5d6-d1b3-4788-b024-6566834a565e",
   "metadata": {},
   "outputs": [
    {
     "data": {
      "text/plain": [
       "259.0"
      ]
     },
     "execution_count": 76,
     "metadata": {},
     "output_type": "execute_result"
    }
   ],
   "source": [
    "test.DATA_VOLUME.median()"
   ]
  },
  {
   "cell_type": "code",
   "execution_count": 77,
   "id": "9e69ffb8-3e55-4309-91b0-d77bf38a6020",
   "metadata": {},
   "outputs": [],
   "source": [
    "train = train[((train.DATA_VOLUME <= test.DATA_VOLUME.max()) & (train.CHURN == 0)) | train.CHURN == 1 ]"
   ]
  },
  {
   "cell_type": "code",
   "execution_count": 78,
   "id": "c0411c4e-327a-4375-be56-507f3da5f2a8",
   "metadata": {},
   "outputs": [
    {
     "data": {
      "text/plain": [
       "False    934522\n",
       "True      22777\n",
       "Name: DATA_VOLUME, dtype: int64"
      ]
     },
     "execution_count": 78,
     "metadata": {},
     "output_type": "execute_result"
    }
   ],
   "source": [
    "train.DATA_VOLUME.isna().value_counts()"
   ]
  },
  {
   "cell_type": "code",
   "execution_count": 79,
   "id": "cb068da8-8259-430c-95fe-ca7f371960c5",
   "metadata": {},
   "outputs": [
    {
     "data": {
      "text/plain": [
       "False    193087\n",
       "True     187040\n",
       "Name: DATA_VOLUME, dtype: int64"
      ]
     },
     "execution_count": 79,
     "metadata": {},
     "output_type": "execute_result"
    }
   ],
   "source": [
    "test.DATA_VOLUME.isna().value_counts()"
   ]
  },
  {
   "cell_type": "code",
   "execution_count": 80,
   "id": "445d18c2-b2c4-425c-9020-ce94d19506ab",
   "metadata": {},
   "outputs": [],
   "source": [
    "train.DATA_VOLUME.fillna(train.DATA_VOLUME.median(), inplace = True)\n",
    "test.DATA_VOLUME.fillna(test.DATA_VOLUME.median(), inplace = True)"
   ]
  },
  {
   "cell_type": "code",
   "execution_count": 81,
   "id": "bcafe656-6be8-4258-916d-71762634ba40",
   "metadata": {},
   "outputs": [],
   "source": [
    "train.DATA_VOLUME = scaler.fit_transform(np.array(train.DATA_VOLUME).reshape(-1,1))\n",
    "test.DATA_VOLUME = scaler.fit_transform(np.array(test.DATA_VOLUME).reshape(-1,1))"
   ]
  },
  {
   "cell_type": "code",
   "execution_count": 82,
   "id": "a37b3677-fbcb-486a-84a2-986ce9a3d07c",
   "metadata": {},
   "outputs": [
    {
     "data": {
      "text/plain": [
       "<AxesSubplot:>"
      ]
     },
     "execution_count": 82,
     "metadata": {},
     "output_type": "execute_result"
    },
    {
     "data": {
      "image/png": "[encoded data removed]",
      "text/plain": [
       "<Figure size 432x288 with 1 Axes>"
      ]
     },
     "metadata": {
      "needs_background": "light"
     },
     "output_type": "display_data"
    }
   ],
   "source": [
    "train.ON_NET.hist()"
   ]
  },
  {
   "cell_type": "code",
   "execution_count": 83,
   "id": "3fb319bc-c1a1-4724-bdb3-ac28abcb6bb9",
   "metadata": {},
   "outputs": [
    {
     "data": {
      "text/plain": [
       "<AxesSubplot:>"
      ]
     },
     "execution_count": 83,
     "metadata": {},
     "output_type": "execute_result"
    },
    {
     "data": {
      "image/png": "[encoded data removed]",
      "text/plain": [
       "<Figure size 432x288 with 1 Axes>"
      ]
     },
     "metadata": {
      "needs_background": "light"
     },
     "output_type": "display_data"
    }
   ],
   "source": [
    "test.ON_NET.hist()"
   ]
  },
  {
   "cell_type": "code",
   "execution_count": 84,
   "id": "b400828e-122a-42a7-8064-bd8dc7323935",
   "metadata": {},
   "outputs": [
    {
     "data": {
      "text/plain": [
       "False    851395\n",
       "True     105904\n",
       "Name: ON_NET, dtype: int64"
      ]
     },
     "execution_count": 84,
     "metadata": {},
     "output_type": "execute_result"
    }
   ],
   "source": [
    "train.ON_NET.isna().value_counts()"
   ]
  },
  {
   "cell_type": "code",
   "execution_count": 85,
   "id": "c46fa239-6f82-4e43-9a63-a6d0f8ed35c5",
   "metadata": {},
   "outputs": [
    {
     "data": {
      "text/plain": [
       "False    241613\n",
       "True     138514\n",
       "Name: ON_NET, dtype: int64"
      ]
     },
     "execution_count": 85,
     "metadata": {},
     "output_type": "execute_result"
    }
   ],
   "source": [
    "test.ON_NET.isna().value_counts()"
   ]
  },
  {
   "cell_type": "code",
   "execution_count": 86,
   "id": "ee994d8f-bdc9-492d-a8db-2b326f2337ee",
   "metadata": {},
   "outputs": [],
   "source": [
    "train = train[((train.ON_NET <= test.ON_NET.max()) & (train.CHURN == 0)) | train.CHURN == 1 ]"
   ]
  },
  {
   "cell_type": "code",
   "execution_count": 87,
   "id": "50a40c41-1a86-4a8c-abee-2006e1e3ad8e",
   "metadata": {},
   "outputs": [
    {
     "data": {
      "text/plain": [
       "32.0"
      ]
     },
     "execution_count": 87,
     "metadata": {},
     "output_type": "execute_result"
    }
   ],
   "source": [
    "train.ON_NET.median()"
   ]
  },
  {
   "cell_type": "code",
   "execution_count": 88,
   "id": "e7cdeb17-c397-4a1a-959c-cb896a0f14ca",
   "metadata": {},
   "outputs": [
    {
     "data": {
      "text/plain": [
       "27.0"
      ]
     },
     "execution_count": 88,
     "metadata": {},
     "output_type": "execute_result"
    }
   ],
   "source": [
    "test.ON_NET.median()"
   ]
  },
  {
   "cell_type": "code",
   "execution_count": 89,
   "id": "b083a8d5-5b19-47d8-8832-b4b5d8d7205f",
   "metadata": {},
   "outputs": [],
   "source": [
    "train.ON_NET.fillna(train.ON_NET.median(), inplace = True)\n",
    "test.ON_NET.fillna(test.ON_NET.median(), inplace = True)"
   ]
  },
  {
   "cell_type": "code",
   "execution_count": 90,
   "id": "7944de8d-5abb-4b41-947a-65a50e7a06e6",
   "metadata": {},
   "outputs": [],
   "source": [
    "train.ON_NET = scaler.fit_transform(np.array(train.ON_NET).reshape(-1,1))\n",
    "test.ON_NET = scaler.fit_transform(np.array(test.ON_NET).reshape(-1,1))"
   ]
  },
  {
   "cell_type": "code",
   "execution_count": 91,
   "id": "f7e79a16-96ac-47bd-b7e6-b97730d5235c",
   "metadata": {},
   "outputs": [
    {
     "data": {
      "text/plain": [
       "<AxesSubplot:>"
      ]
     },
     "execution_count": 91,
     "metadata": {},
     "output_type": "execute_result"
    },
    {
     "data": {
      "image/png": "[encoded data removed]",
      "text/plain": [
       "<Figure size 432x288 with 1 Axes>"
      ]
     },
     "metadata": {
      "needs_background": "light"
     },
     "output_type": "display_data"
    }
   ],
   "source": [
    "train.ORANGE.hist()"
   ]
  },
  {
   "cell_type": "code",
   "execution_count": 92,
   "id": "642b8290-8eda-4ffd-b868-6600cf8f7bcb",
   "metadata": {},
   "outputs": [
    {
     "data": {
      "text/plain": [
       "<AxesSubplot:>"
      ]
     },
     "execution_count": 92,
     "metadata": {},
     "output_type": "execute_result"
    },
    {
     "data": {
      "image/png": "[encoded data removed]",
      "text/plain": [
       "<Figure size 432x288 with 1 Axes>"
      ]
     },
     "metadata": {
      "needs_background": "light"
     },
     "output_type": "display_data"
    }
   ],
   "source": [
    "test.ORANGE.hist()"
   ]
  },
  {
   "cell_type": "code",
   "execution_count": 93,
   "id": "0ff64b52-c808-4eb3-9175-f38ab8e081cf",
   "metadata": {},
   "outputs": [
    {
     "data": {
      "text/plain": [
       "False    785005\n",
       "True      85848\n",
       "Name: ORANGE, dtype: int64"
      ]
     },
     "execution_count": 93,
     "metadata": {},
     "output_type": "execute_result"
    }
   ],
   "source": [
    "train.ORANGE.isna().value_counts()"
   ]
  },
  {
   "cell_type": "code",
   "execution_count": 94,
   "id": "0c5c9fad-9100-46f7-a25e-c40ea1c19f95",
   "metadata": {},
   "outputs": [
    {
     "data": {
      "text/plain": [
       "False    222897\n",
       "True     157230\n",
       "Name: ORANGE, dtype: int64"
      ]
     },
     "execution_count": 94,
     "metadata": {},
     "output_type": "execute_result"
    }
   ],
   "source": [
    "test.ORANGE.isna().value_counts()"
   ]
  },
  {
   "cell_type": "code",
   "execution_count": 95,
   "id": "5c78a432-2f26-4239-83bb-a89f16798b12",
   "metadata": {},
   "outputs": [
    {
     "data": {
      "text/plain": [
       "32.0"
      ]
     },
     "execution_count": 95,
     "metadata": {},
     "output_type": "execute_result"
    }
   ],
   "source": [
    "train.ORANGE.median()"
   ]
  },
  {
   "cell_type": "code",
   "execution_count": 96,
   "id": "49d2100f-ebdc-40d9-b44b-4ba411ac6bb3",
   "metadata": {},
   "outputs": [
    {
     "data": {
      "text/plain": [
       "29.0"
      ]
     },
     "execution_count": 96,
     "metadata": {},
     "output_type": "execute_result"
    }
   ],
   "source": [
    "test.ORANGE.median()"
   ]
  },
  {
   "cell_type": "code",
   "execution_count": 97,
   "id": "80154b65-92b1-4994-a4eb-20687803ef0d",
   "metadata": {},
   "outputs": [],
   "source": [
    "train.ORANGE.fillna(train.ORANGE.median(), inplace = True)\n",
    "test.ORANGE.fillna(test.ORANGE.median(), inplace = True)"
   ]
  },
  {
   "cell_type": "code",
   "execution_count": 98,
   "id": "9bf62651-fab9-4702-b44f-76618c195803",
   "metadata": {},
   "outputs": [],
   "source": [
    "train.ORANGE = scaler.fit_transform(np.array(train.ORANGE).reshape(-1,1))\n",
    "test.ORANGE = scaler.fit_transform(np.array(test.ORANGE).reshape(-1,1))"
   ]
  },
  {
   "cell_type": "code",
   "execution_count": 99,
   "id": "28a95166-e80f-4002-945e-ac616f109ef5",
   "metadata": {},
   "outputs": [
    {
     "data": {
      "text/plain": [
       "<AxesSubplot:>"
      ]
     },
     "execution_count": 99,
     "metadata": {},
     "output_type": "execute_result"
    },
    {
     "data": {
      "image/png": "[encoded data removed]",
      "text/plain": [
       "<Figure size 432x288 with 1 Axes>"
      ]
     },
     "metadata": {
      "needs_background": "light"
     },
     "output_type": "display_data"
    }
   ],
   "source": [
    "train.TIGO.hist()"
   ]
  },
  {
   "cell_type": "code",
   "execution_count": 100,
   "id": "14d1a2d4-6fd5-49da-8465-026b0b0d780b",
   "metadata": {},
   "outputs": [
    {
     "data": {
      "text/plain": [
       "<AxesSubplot:>"
      ]
     },
     "execution_count": 100,
     "metadata": {},
     "output_type": "execute_result"
    },
    {
     "data": {
      "image/png": "[encoded data removed]",
      "text/plain": [
       "<Figure size 432x288 with 1 Axes>"
      ]
     },
     "metadata": {
      "needs_background": "light"
     },
     "output_type": "display_data"
    }
   ],
   "source": [
    "test.TIGO.hist()"
   ]
  },
  {
   "cell_type": "code",
   "execution_count": 101,
   "id": "eeca391c-0a54-4231-98ac-169a962f5831",
   "metadata": {},
   "outputs": [
    {
     "data": {
      "text/plain": [
       "False    564759\n",
       "True     306094\n",
       "Name: TIGO, dtype: int64"
      ]
     },
     "execution_count": 101,
     "metadata": {},
     "output_type": "execute_result"
    }
   ],
   "source": [
    "train.TIGO.isna().value_counts()"
   ]
  },
  {
   "cell_type": "code",
   "execution_count": 102,
   "id": "88ae7fe7-320c-43b1-9c92-c41acfc6b2e0",
   "metadata": {},
   "outputs": [
    {
     "data": {
      "text/plain": [
       "True     227001\n",
       "False    153126\n",
       "Name: TIGO, dtype: int64"
      ]
     },
     "execution_count": 102,
     "metadata": {},
     "output_type": "execute_result"
    }
   ],
   "source": [
    "test.TIGO.isna().value_counts()"
   ]
  },
  {
   "cell_type": "code",
   "execution_count": 103,
   "id": "cb0a12d3-dd0f-451f-9332-b06d2169af91",
   "metadata": {},
   "outputs": [
    {
     "data": {
      "text/plain": [
       "7.0"
      ]
     },
     "execution_count": 103,
     "metadata": {},
     "output_type": "execute_result"
    }
   ],
   "source": [
    "train.TIGO.median()"
   ]
  },
  {
   "cell_type": "code",
   "execution_count": 104,
   "id": "7d70ca86-9482-495a-ac2f-3be6e7aaa91f",
   "metadata": {},
   "outputs": [
    {
     "data": {
      "text/plain": [
       "6.0"
      ]
     },
     "execution_count": 104,
     "metadata": {},
     "output_type": "execute_result"
    }
   ],
   "source": [
    "test.TIGO.median()"
   ]
  },
  {
   "cell_type": "code",
   "execution_count": 105,
   "id": "03e7c7e2-43b9-40c5-81a9-f75951cf20ad",
   "metadata": {},
   "outputs": [],
   "source": [
    "train.TIGO.fillna(train.TIGO.median(), inplace = True)\n",
    "test.TIGO.fillna(test.TIGO.median(), inplace = True)"
   ]
  },
  {
   "cell_type": "code",
   "execution_count": 106,
   "id": "a3bb2e6c-5265-4154-a28d-6193e4e18601",
   "metadata": {},
   "outputs": [],
   "source": [
    "train.TIGO = scaler.fit_transform(np.array(train.TIGO).reshape(-1,1))\n",
    "test.TIGO = scaler.fit_transform(np.array(test.TIGO).reshape(-1,1))"
   ]
  },
  {
   "cell_type": "code",
   "execution_count": 107,
   "id": "5c26a776-e466-4dd6-9376-5fc10d9e5000",
   "metadata": {},
   "outputs": [
    {
     "data": {
      "text/plain": [
       "<AxesSubplot:>"
      ]
     },
     "execution_count": 107,
     "metadata": {},
     "output_type": "execute_result"
    },
    {
     "data": {
      "image/png": "[encoded data removed]",
      "text/plain": [
       "<Figure size 432x288 with 1 Axes>"
      ]
     },
     "metadata": {
      "needs_background": "light"
     },
     "output_type": "display_data"
    }
   ],
   "source": [
    "train.REGULARITY.hist()"
   ]
  },
  {
   "cell_type": "code",
   "execution_count": 108,
   "id": "256266c7-f821-4062-b40c-32b109bb288e",
   "metadata": {},
   "outputs": [
    {
     "data": {
      "text/plain": [
       "<AxesSubplot:>"
      ]
     },
     "execution_count": 108,
     "metadata": {},
     "output_type": "execute_result"
    },
    {
     "data": {
      "image/png": "[encoded data removed]",
      "text/plain": [
       "<Figure size 432x288 with 1 Axes>"
      ]
     },
     "metadata": {
      "needs_background": "light"
     },
     "output_type": "display_data"
    }
   ],
   "source": [
    "test.REGULARITY.hist()"
   ]
  },
  {
   "cell_type": "code",
   "execution_count": 109,
   "id": "32b90420-677f-4218-bf38-9e9093b814b3",
   "metadata": {},
   "outputs": [
    {
     "data": {
      "text/plain": [
       "False    870853\n",
       "Name: REGULARITY, dtype: int64"
      ]
     },
     "execution_count": 109,
     "metadata": {},
     "output_type": "execute_result"
    }
   ],
   "source": [
    "train.REGULARITY.isna().value_counts()"
   ]
  },
  {
   "cell_type": "code",
   "execution_count": 110,
   "id": "4a67020e-a691-475a-bd71-d82f9391bdb4",
   "metadata": {},
   "outputs": [
    {
     "data": {
      "text/plain": [
       "False    380127\n",
       "Name: REGULARITY, dtype: int64"
      ]
     },
     "execution_count": 110,
     "metadata": {},
     "output_type": "execute_result"
    }
   ],
   "source": [
    "test.REGULARITY.isna().value_counts()"
   ]
  },
  {
   "cell_type": "code",
   "execution_count": 111,
   "id": "9ae56d97-b6d0-4522-a144-52258d2635e5",
   "metadata": {},
   "outputs": [
    {
     "data": {
      "text/plain": [
       "47.0"
      ]
     },
     "execution_count": 111,
     "metadata": {},
     "output_type": "execute_result"
    }
   ],
   "source": [
    "train.REGULARITY.median()"
   ]
  },
  {
   "cell_type": "code",
   "execution_count": 112,
   "id": "b3c26d4a-83b1-4068-b61f-02fb91a96ffa",
   "metadata": {},
   "outputs": [
    {
     "data": {
      "text/plain": [
       "24.0"
      ]
     },
     "execution_count": 112,
     "metadata": {},
     "output_type": "execute_result"
    }
   ],
   "source": [
    "test.REGULARITY.median()"
   ]
  },
  {
   "cell_type": "code",
   "execution_count": 113,
   "id": "7a2236b1-80e2-4719-b7db-aba74f98cc7b",
   "metadata": {},
   "outputs": [],
   "source": [
    "train.REGULARITY.fillna(train.REGULARITY.median(), inplace = True)\n",
    "test.REGULARITY.fillna(test.REGULARITY.median(), inplace = True)"
   ]
  },
  {
   "cell_type": "code",
   "execution_count": 114,
   "id": "3a8760b0-cd29-4342-a3c2-a053e12fc194",
   "metadata": {},
   "outputs": [],
   "source": [
    "train.REGULARITY = scaler.fit_transform(np.array(train.REGULARITY).reshape(-1,1))\n",
    "test.REGULARITY = scaler.fit_transform(np.array(test.REGULARITY).reshape(-1,1))"
   ]
  },
  {
   "cell_type": "markdown",
   "id": "080f4acb-553b-40cb-957d-f3c3eec4a0f7",
   "metadata": {},
   "source": [
    "# Correlation Analysis Incomming"
   ]
  },
  {
   "cell_type": "code",
   "execution_count": 115,
   "id": "2bb6eab3-3dca-4051-b091-7e29d9ba2833",
   "metadata": {},
   "outputs": [],
   "source": [
    "corr_map = train.corr()"
   ]
  },
  {
   "cell_type": "code",
   "execution_count": 116,
   "id": "46624f4f-869b-4e58-8826-e143bbace9bb",
   "metadata": {},
   "outputs": [
    {
     "data": {
      "text/html": [
       "<div>\n",
       "<style scoped>\n",
       "    .dataframe tbody tr th:only-of-type {\n",
       "        vertical-align: middle;\n",
       "    }\n",
       "\n",
       "    .dataframe tbody tr th {\n",
       "        vertical-align: top;\n",
       "    }\n",
       "\n",
       "    .dataframe thead th {\n",
       "        text-align: right;\n",
       "    }\n",
       "</style>\n",
       "<table border=\"1\" class=\"dataframe\">\n",
       "  <thead>\n",
       "    <tr style=\"text-align: right;\">\n",
       "      <th></th>\n",
       "      <th>MONTANT</th>\n",
       "      <th>FREQUENCE_RECH</th>\n",
       "      <th>REVENUE</th>\n",
       "      <th>ARPU_SEGMENT</th>\n",
       "      <th>FREQUENCE</th>\n",
       "      <th>DATA_VOLUME</th>\n",
       "      <th>ON_NET</th>\n",
       "      <th>ORANGE</th>\n",
       "      <th>TIGO</th>\n",
       "      <th>REGULARITY</th>\n",
       "      <th>...</th>\n",
       "      <th>TOP_PACK_TWTERU2OPIAWEEKLY</th>\n",
       "      <th>TOP_PACK_VASIVRRADIODAILY</th>\n",
       "      <th>TOP_PACK_VASIVRRADIOMONTHLY</th>\n",
       "      <th>TOP_PACK_VASIVRRADIOWEEKLY</th>\n",
       "      <th>TOP_PACK_WIFIFAMILY10MBPS</th>\n",
       "      <th>TOP_PACK_WIFIFAMILY2MBPS</th>\n",
       "      <th>TOP_PACK_WIFIFAMILY4MBPS</th>\n",
       "      <th>TOP_PACK_YEWOULEENPKG</th>\n",
       "      <th>TOP_PACK_YMGX1001HOURFNF24H1MONTH</th>\n",
       "      <th>TOP_PACK_other_TOP_PACK</th>\n",
       "    </tr>\n",
       "  </thead>\n",
       "  <tbody>\n",
       "    <tr>\n",
       "      <th>MONTANT</th>\n",
       "      <td>1.000000</td>\n",
       "      <td>0.792264</td>\n",
       "      <td>0.984866</td>\n",
       "      <td>0.984866</td>\n",
       "      <td>0.778012</td>\n",
       "      <td>0.353228</td>\n",
       "      <td>0.326903</td>\n",
       "      <td>0.640261</td>\n",
       "      <td>0.402192</td>\n",
       "      <td>0.505862</td>\n",
       "      <td>...</td>\n",
       "      <td>-0.012600</td>\n",
       "      <td>-0.009094</td>\n",
       "      <td>-0.001995</td>\n",
       "      <td>-0.002131</td>\n",
       "      <td>0.010656</td>\n",
       "      <td>0.015352</td>\n",
       "      <td>0.015392</td>\n",
       "      <td>0.004310</td>\n",
       "      <td>-0.001049</td>\n",
       "      <td>-0.174864</td>\n",
       "    </tr>\n",
       "    <tr>\n",
       "      <th>FREQUENCE_RECH</th>\n",
       "      <td>0.792264</td>\n",
       "      <td>1.000000</td>\n",
       "      <td>0.793581</td>\n",
       "      <td>0.793581</td>\n",
       "      <td>0.958689</td>\n",
       "      <td>0.242139</td>\n",
       "      <td>0.391312</td>\n",
       "      <td>0.484997</td>\n",
       "      <td>0.324408</td>\n",
       "      <td>0.527043</td>\n",
       "      <td>...</td>\n",
       "      <td>-0.032787</td>\n",
       "      <td>-0.017750</td>\n",
       "      <td>-0.003689</td>\n",
       "      <td>-0.002155</td>\n",
       "      <td>-0.001534</td>\n",
       "      <td>-0.007521</td>\n",
       "      <td>-0.004000</td>\n",
       "      <td>-0.014721</td>\n",
       "      <td>0.012514</td>\n",
       "      <td>-0.184914</td>\n",
       "    </tr>\n",
       "    <tr>\n",
       "      <th>REVENUE</th>\n",
       "      <td>0.984866</td>\n",
       "      <td>0.793581</td>\n",
       "      <td>1.000000</td>\n",
       "      <td>1.000000</td>\n",
       "      <td>0.781339</td>\n",
       "      <td>0.359098</td>\n",
       "      <td>0.328665</td>\n",
       "      <td>0.643462</td>\n",
       "      <td>0.402610</td>\n",
       "      <td>0.509958</td>\n",
       "      <td>...</td>\n",
       "      <td>-0.013972</td>\n",
       "      <td>-0.010006</td>\n",
       "      <td>-0.003204</td>\n",
       "      <td>-0.002358</td>\n",
       "      <td>0.010341</td>\n",
       "      <td>0.016783</td>\n",
       "      <td>0.015298</td>\n",
       "      <td>0.005770</td>\n",
       "      <td>-0.000894</td>\n",
       "      <td>-0.183711</td>\n",
       "    </tr>\n",
       "    <tr>\n",
       "      <th>ARPU_SEGMENT</th>\n",
       "      <td>0.984866</td>\n",
       "      <td>0.793581</td>\n",
       "      <td>1.000000</td>\n",
       "      <td>1.000000</td>\n",
       "      <td>0.781338</td>\n",
       "      <td>0.359098</td>\n",
       "      <td>0.328665</td>\n",
       "      <td>0.643462</td>\n",
       "      <td>0.402610</td>\n",
       "      <td>0.509957</td>\n",
       "      <td>...</td>\n",
       "      <td>-0.013973</td>\n",
       "      <td>-0.010006</td>\n",
       "      <td>-0.003204</td>\n",
       "      <td>-0.002358</td>\n",
       "      <td>0.010340</td>\n",
       "      <td>0.016783</td>\n",
       "      <td>0.015298</td>\n",
       "      <td>0.005771</td>\n",
       "      <td>-0.000894</td>\n",
       "      <td>-0.183712</td>\n",
       "    </tr>\n",
       "    <tr>\n",
       "      <th>FREQUENCE</th>\n",
       "      <td>0.778012</td>\n",
       "      <td>0.958689</td>\n",
       "      <td>0.781339</td>\n",
       "      <td>0.781338</td>\n",
       "      <td>1.000000</td>\n",
       "      <td>0.270004</td>\n",
       "      <td>0.380369</td>\n",
       "      <td>0.441726</td>\n",
       "      <td>0.291324</td>\n",
       "      <td>0.566769</td>\n",
       "      <td>...</td>\n",
       "      <td>-0.018229</td>\n",
       "      <td>0.014185</td>\n",
       "      <td>-0.003430</td>\n",
       "      <td>-0.001934</td>\n",
       "      <td>-0.001674</td>\n",
       "      <td>-0.008543</td>\n",
       "      <td>-0.004470</td>\n",
       "      <td>-0.013197</td>\n",
       "      <td>0.014088</td>\n",
       "      <td>-0.189532</td>\n",
       "    </tr>\n",
       "    <tr>\n",
       "      <th>...</th>\n",
       "      <td>...</td>\n",
       "      <td>...</td>\n",
       "      <td>...</td>\n",
       "      <td>...</td>\n",
       "      <td>...</td>\n",
       "      <td>...</td>\n",
       "      <td>...</td>\n",
       "      <td>...</td>\n",
       "      <td>...</td>\n",
       "      <td>...</td>\n",
       "      <td>...</td>\n",
       "      <td>...</td>\n",
       "      <td>...</td>\n",
       "      <td>...</td>\n",
       "      <td>...</td>\n",
       "      <td>...</td>\n",
       "      <td>...</td>\n",
       "      <td>...</td>\n",
       "      <td>...</td>\n",
       "      <td>...</td>\n",
       "      <td>...</td>\n",
       "    </tr>\n",
       "    <tr>\n",
       "      <th>TOP_PACK_WIFIFAMILY2MBPS</th>\n",
       "      <td>0.015352</td>\n",
       "      <td>-0.007521</td>\n",
       "      <td>0.016783</td>\n",
       "      <td>0.016783</td>\n",
       "      <td>-0.008543</td>\n",
       "      <td>0.163763</td>\n",
       "      <td>-0.002778</td>\n",
       "      <td>-0.002884</td>\n",
       "      <td>-0.001927</td>\n",
       "      <td>-0.003314</td>\n",
       "      <td>...</td>\n",
       "      <td>-0.000530</td>\n",
       "      <td>-0.000973</td>\n",
       "      <td>-0.000051</td>\n",
       "      <td>-0.000040</td>\n",
       "      <td>-0.000017</td>\n",
       "      <td>1.000000</td>\n",
       "      <td>-0.000044</td>\n",
       "      <td>-0.000175</td>\n",
       "      <td>-0.000176</td>\n",
       "      <td>-0.002403</td>\n",
       "    </tr>\n",
       "    <tr>\n",
       "      <th>TOP_PACK_WIFIFAMILY4MBPS</th>\n",
       "      <td>0.015392</td>\n",
       "      <td>-0.004000</td>\n",
       "      <td>0.015298</td>\n",
       "      <td>0.015298</td>\n",
       "      <td>-0.004470</td>\n",
       "      <td>0.170309</td>\n",
       "      <td>-0.001435</td>\n",
       "      <td>-0.001489</td>\n",
       "      <td>-0.000995</td>\n",
       "      <td>-0.002531</td>\n",
       "      <td>...</td>\n",
       "      <td>-0.000274</td>\n",
       "      <td>-0.000502</td>\n",
       "      <td>-0.000026</td>\n",
       "      <td>-0.000021</td>\n",
       "      <td>-0.000009</td>\n",
       "      <td>-0.000044</td>\n",
       "      <td>1.000000</td>\n",
       "      <td>-0.000090</td>\n",
       "      <td>-0.000091</td>\n",
       "      <td>-0.001241</td>\n",
       "    </tr>\n",
       "    <tr>\n",
       "      <th>TOP_PACK_YEWOULEENPKG</th>\n",
       "      <td>0.004310</td>\n",
       "      <td>-0.014721</td>\n",
       "      <td>0.005770</td>\n",
       "      <td>0.005771</td>\n",
       "      <td>-0.013197</td>\n",
       "      <td>-0.003781</td>\n",
       "      <td>0.003407</td>\n",
       "      <td>0.008644</td>\n",
       "      <td>0.001430</td>\n",
       "      <td>0.000898</td>\n",
       "      <td>...</td>\n",
       "      <td>-0.001078</td>\n",
       "      <td>-0.001979</td>\n",
       "      <td>-0.000103</td>\n",
       "      <td>-0.000081</td>\n",
       "      <td>-0.000035</td>\n",
       "      <td>-0.000175</td>\n",
       "      <td>-0.000090</td>\n",
       "      <td>1.000000</td>\n",
       "      <td>-0.000357</td>\n",
       "      <td>-0.004887</td>\n",
       "    </tr>\n",
       "    <tr>\n",
       "      <th>TOP_PACK_YMGX1001HOURFNF24H1MONTH</th>\n",
       "      <td>-0.001049</td>\n",
       "      <td>0.012514</td>\n",
       "      <td>-0.000894</td>\n",
       "      <td>-0.000894</td>\n",
       "      <td>0.014088</td>\n",
       "      <td>-0.001290</td>\n",
       "      <td>0.015759</td>\n",
       "      <td>-0.003881</td>\n",
       "      <td>-0.002586</td>\n",
       "      <td>0.007922</td>\n",
       "      <td>...</td>\n",
       "      <td>-0.001081</td>\n",
       "      <td>-0.001985</td>\n",
       "      <td>-0.000103</td>\n",
       "      <td>-0.000081</td>\n",
       "      <td>-0.000035</td>\n",
       "      <td>-0.000176</td>\n",
       "      <td>-0.000091</td>\n",
       "      <td>-0.000357</td>\n",
       "      <td>1.000000</td>\n",
       "      <td>-0.004902</td>\n",
       "    </tr>\n",
       "    <tr>\n",
       "      <th>TOP_PACK_other_TOP_PACK</th>\n",
       "      <td>-0.174864</td>\n",
       "      <td>-0.184914</td>\n",
       "      <td>-0.183711</td>\n",
       "      <td>-0.183712</td>\n",
       "      <td>-0.189532</td>\n",
       "      <td>-0.093846</td>\n",
       "      <td>-0.082478</td>\n",
       "      <td>-0.099888</td>\n",
       "      <td>-0.058306</td>\n",
       "      <td>-0.259609</td>\n",
       "      <td>...</td>\n",
       "      <td>-0.014791</td>\n",
       "      <td>-0.027152</td>\n",
       "      <td>-0.001415</td>\n",
       "      <td>-0.001110</td>\n",
       "      <td>-0.000481</td>\n",
       "      <td>-0.002403</td>\n",
       "      <td>-0.001241</td>\n",
       "      <td>-0.004887</td>\n",
       "      <td>-0.004902</td>\n",
       "      <td>1.000000</td>\n",
       "    </tr>\n",
       "  </tbody>\n",
       "</table>\n",
       "<p>136 rows × 136 columns</p>\n",
       "</div>"
      ],
      "text/plain": [
       "                                    MONTANT  FREQUENCE_RECH   REVENUE  \\\n",
       "MONTANT                            1.000000        0.792264  0.984866   \n",
       "FREQUENCE_RECH                     0.792264        1.000000  0.793581   \n",
       "REVENUE                            0.984866        0.793581  1.000000   \n",
       "ARPU_SEGMENT                       0.984866        0.793581  1.000000   \n",
       "FREQUENCE                          0.778012        0.958689  0.781339   \n",
       "...                                     ...             ...       ...   \n",
       "TOP_PACK_WIFIFAMILY2MBPS           0.015352       -0.007521  0.016783   \n",
       "TOP_PACK_WIFIFAMILY4MBPS           0.015392       -0.004000  0.015298   \n",
       "TOP_PACK_YEWOULEENPKG              0.004310       -0.014721  0.005770   \n",
       "TOP_PACK_YMGX1001HOURFNF24H1MONTH -0.001049        0.012514 -0.000894   \n",
       "TOP_PACK_other_TOP_PACK           -0.174864       -0.184914 -0.183711   \n",
       "\n",
       "                                   ARPU_SEGMENT  FREQUENCE  DATA_VOLUME  \\\n",
       "MONTANT                                0.984866   0.778012     0.353228   \n",
       "FREQUENCE_RECH                         0.793581   0.958689     0.242139   \n",
       "REVENUE                                1.000000   0.781339     0.359098   \n",
       "ARPU_SEGMENT                           1.000000   0.781338     0.359098   \n",
       "FREQUENCE                              0.781338   1.000000     0.270004   \n",
       "...                                         ...        ...          ...   \n",
       "TOP_PACK_WIFIFAMILY2MBPS               0.016783  -0.008543     0.163763   \n",
       "TOP_PACK_WIFIFAMILY4MBPS               0.015298  -0.004470     0.170309   \n",
       "TOP_PACK_YEWOULEENPKG                  0.005771  -0.013197    -0.003781   \n",
       "TOP_PACK_YMGX1001HOURFNF24H1MONTH     -0.000894   0.014088    -0.001290   \n",
       "TOP_PACK_other_TOP_PACK               -0.183712  -0.189532    -0.093846   \n",
       "\n",
       "                                     ON_NET    ORANGE      TIGO  REGULARITY  \\\n",
       "MONTANT                            0.326903  0.640261  0.402192    0.505862   \n",
       "FREQUENCE_RECH                     0.391312  0.484997  0.324408    0.527043   \n",
       "REVENUE                            0.328665  0.643462  0.402610    0.509958   \n",
       "ARPU_SEGMENT                       0.328665  0.643462  0.402610    0.509957   \n",
       "FREQUENCE                          0.380369  0.441726  0.291324    0.566769   \n",
       "...                                     ...       ...       ...         ...   \n",
       "TOP_PACK_WIFIFAMILY2MBPS          -0.002778 -0.002884 -0.001927   -0.003314   \n",
       "TOP_PACK_WIFIFAMILY4MBPS          -0.001435 -0.001489 -0.000995   -0.002531   \n",
       "TOP_PACK_YEWOULEENPKG              0.003407  0.008644  0.001430    0.000898   \n",
       "TOP_PACK_YMGX1001HOURFNF24H1MONTH  0.015759 -0.003881 -0.002586    0.007922   \n",
       "TOP_PACK_other_TOP_PACK           -0.082478 -0.099888 -0.058306   -0.259609   \n",
       "\n",
       "                                   ...  TOP_PACK_TWTERU2OPIAWEEKLY  \\\n",
       "MONTANT                            ...                   -0.012600   \n",
       "FREQUENCE_RECH                     ...                   -0.032787   \n",
       "REVENUE                            ...                   -0.013972   \n",
       "ARPU_SEGMENT                       ...                   -0.013973   \n",
       "FREQUENCE                          ...                   -0.018229   \n",
       "...                                ...                         ...   \n",
       "TOP_PACK_WIFIFAMILY2MBPS           ...                   -0.000530   \n",
       "TOP_PACK_WIFIFAMILY4MBPS           ...                   -0.000274   \n",
       "TOP_PACK_YEWOULEENPKG              ...                   -0.001078   \n",
       "TOP_PACK_YMGX1001HOURFNF24H1MONTH  ...                   -0.001081   \n",
       "TOP_PACK_other_TOP_PACK            ...                   -0.014791   \n",
       "\n",
       "                                   TOP_PACK_VASIVRRADIODAILY  \\\n",
       "MONTANT                                            -0.009094   \n",
       "FREQUENCE_RECH                                     -0.017750   \n",
       "REVENUE                                            -0.010006   \n",
       "ARPU_SEGMENT                                       -0.010006   \n",
       "FREQUENCE                                           0.014185   \n",
       "...                                                      ...   \n",
       "TOP_PACK_WIFIFAMILY2MBPS                           -0.000973   \n",
       "TOP_PACK_WIFIFAMILY4MBPS                           -0.000502   \n",
       "TOP_PACK_YEWOULEENPKG                              -0.001979   \n",
       "TOP_PACK_YMGX1001HOURFNF24H1MONTH                  -0.001985   \n",
       "TOP_PACK_other_TOP_PACK                            -0.027152   \n",
       "\n",
       "                                   TOP_PACK_VASIVRRADIOMONTHLY  \\\n",
       "MONTANT                                              -0.001995   \n",
       "FREQUENCE_RECH                                       -0.003689   \n",
       "REVENUE                                              -0.003204   \n",
       "ARPU_SEGMENT                                         -0.003204   \n",
       "FREQUENCE                                            -0.003430   \n",
       "...                                                        ...   \n",
       "TOP_PACK_WIFIFAMILY2MBPS                             -0.000051   \n",
       "TOP_PACK_WIFIFAMILY4MBPS                             -0.000026   \n",
       "TOP_PACK_YEWOULEENPKG                                -0.000103   \n",
       "TOP_PACK_YMGX1001HOURFNF24H1MONTH                    -0.000103   \n",
       "TOP_PACK_other_TOP_PACK                              -0.001415   \n",
       "\n",
       "                                   TOP_PACK_VASIVRRADIOWEEKLY  \\\n",
       "MONTANT                                             -0.002131   \n",
       "FREQUENCE_RECH                                      -0.002155   \n",
       "REVENUE                                             -0.002358   \n",
       "ARPU_SEGMENT                                        -0.002358   \n",
       "FREQUENCE                                           -0.001934   \n",
       "...                                                       ...   \n",
       "TOP_PACK_WIFIFAMILY2MBPS                            -0.000040   \n",
       "TOP_PACK_WIFIFAMILY4MBPS                            -0.000021   \n",
       "TOP_PACK_YEWOULEENPKG                               -0.000081   \n",
       "TOP_PACK_YMGX1001HOURFNF24H1MONTH                   -0.000081   \n",
       "TOP_PACK_other_TOP_PACK                             -0.001110   \n",
       "\n",
       "                                   TOP_PACK_WIFIFAMILY10MBPS  \\\n",
       "MONTANT                                             0.010656   \n",
       "FREQUENCE_RECH                                     -0.001534   \n",
       "REVENUE                                             0.010341   \n",
       "ARPU_SEGMENT                                        0.010340   \n",
       "FREQUENCE                                          -0.001674   \n",
       "...                                                      ...   \n",
       "TOP_PACK_WIFIFAMILY2MBPS                           -0.000017   \n",
       "TOP_PACK_WIFIFAMILY4MBPS                           -0.000009   \n",
       "TOP_PACK_YEWOULEENPKG                              -0.000035   \n",
       "TOP_PACK_YMGX1001HOURFNF24H1MONTH                  -0.000035   \n",
       "TOP_PACK_other_TOP_PACK                            -0.000481   \n",
       "\n",
       "                                   TOP_PACK_WIFIFAMILY2MBPS  \\\n",
       "MONTANT                                            0.015352   \n",
       "FREQUENCE_RECH                                    -0.007521   \n",
       "REVENUE                                            0.016783   \n",
       "ARPU_SEGMENT                                       0.016783   \n",
       "FREQUENCE                                         -0.008543   \n",
       "...                                                     ...   \n",
       "TOP_PACK_WIFIFAMILY2MBPS                           1.000000   \n",
       "TOP_PACK_WIFIFAMILY4MBPS                          -0.000044   \n",
       "TOP_PACK_YEWOULEENPKG                             -0.000175   \n",
       "TOP_PACK_YMGX1001HOURFNF24H1MONTH                 -0.000176   \n",
       "TOP_PACK_other_TOP_PACK                           -0.002403   \n",
       "\n",
       "                                   TOP_PACK_WIFIFAMILY4MBPS  \\\n",
       "MONTANT                                            0.015392   \n",
       "FREQUENCE_RECH                                    -0.004000   \n",
       "REVENUE                                            0.015298   \n",
       "ARPU_SEGMENT                                       0.015298   \n",
       "FREQUENCE                                         -0.004470   \n",
       "...                                                     ...   \n",
       "TOP_PACK_WIFIFAMILY2MBPS                          -0.000044   \n",
       "TOP_PACK_WIFIFAMILY4MBPS                           1.000000   \n",
       "TOP_PACK_YEWOULEENPKG                             -0.000090   \n",
       "TOP_PACK_YMGX1001HOURFNF24H1MONTH                 -0.000091   \n",
       "TOP_PACK_other_TOP_PACK                           -0.001241   \n",
       "\n",
       "                                   TOP_PACK_YEWOULEENPKG  \\\n",
       "MONTANT                                         0.004310   \n",
       "FREQUENCE_RECH                                 -0.014721   \n",
       "REVENUE                                         0.005770   \n",
       "ARPU_SEGMENT                                    0.005771   \n",
       "FREQUENCE                                      -0.013197   \n",
       "...                                                  ...   \n",
       "TOP_PACK_WIFIFAMILY2MBPS                       -0.000175   \n",
       "TOP_PACK_WIFIFAMILY4MBPS                       -0.000090   \n",
       "TOP_PACK_YEWOULEENPKG                           1.000000   \n",
       "TOP_PACK_YMGX1001HOURFNF24H1MONTH              -0.000357   \n",
       "TOP_PACK_other_TOP_PACK                        -0.004887   \n",
       "\n",
       "                                   TOP_PACK_YMGX1001HOURFNF24H1MONTH  \\\n",
       "MONTANT                                                    -0.001049   \n",
       "FREQUENCE_RECH                                              0.012514   \n",
       "REVENUE                                                    -0.000894   \n",
       "ARPU_SEGMENT                                               -0.000894   \n",
       "FREQUENCE                                                   0.014088   \n",
       "...                                                              ...   \n",
       "TOP_PACK_WIFIFAMILY2MBPS                                   -0.000176   \n",
       "TOP_PACK_WIFIFAMILY4MBPS                                   -0.000091   \n",
       "TOP_PACK_YEWOULEENPKG                                      -0.000357   \n",
       "TOP_PACK_YMGX1001HOURFNF24H1MONTH                           1.000000   \n",
       "TOP_PACK_other_TOP_PACK                                    -0.004902   \n",
       "\n",
       "                                   TOP_PACK_other_TOP_PACK  \n",
       "MONTANT                                          -0.174864  \n",
       "FREQUENCE_RECH                                   -0.184914  \n",
       "REVENUE                                          -0.183711  \n",
       "ARPU_SEGMENT                                     -0.183712  \n",
       "FREQUENCE                                        -0.189532  \n",
       "...                                                    ...  \n",
       "TOP_PACK_WIFIFAMILY2MBPS                         -0.002403  \n",
       "TOP_PACK_WIFIFAMILY4MBPS                         -0.001241  \n",
       "TOP_PACK_YEWOULEENPKG                            -0.004887  \n",
       "TOP_PACK_YMGX1001HOURFNF24H1MONTH                -0.004902  \n",
       "TOP_PACK_other_TOP_PACK                           1.000000  \n",
       "\n",
       "[136 rows x 136 columns]"
      ]
     },
     "execution_count": 116,
     "metadata": {},
     "output_type": "execute_result"
    }
   ],
   "source": [
    "corr_map"
   ]
  },
  {
   "cell_type": "code",
   "execution_count": 117,
   "id": "37353c8e-3591-4e37-a8a7-180c7657a222",
   "metadata": {},
   "outputs": [],
   "source": [
    "drop_list = []\n",
    "for column in corr_map.columns:\n",
    "    correlated_features = list(corr_map[corr_map[column] >= 0.70].index) \n",
    "    if column not in drop_list and len(correlated_features) > 1:\n",
    "        train[column + \"_derived\"] = train[correlated_features].mean(axis = 1)\n",
    "        test[column + \"_derived\"] = test[correlated_features].mean(axis = 1)\n",
    "        drop_list = drop_list + correlated_features\n",
    "    else:\n",
    "        continue"
   ]
  },
  {
   "cell_type": "code",
   "execution_count": 118,
   "id": "7d954abc-8fb8-42ec-b316-fcd47091b520",
   "metadata": {},
   "outputs": [],
   "source": [
    "train.drop(drop_list, axis =1, inplace = True)\n",
    "test.drop(drop_list, axis =1, inplace = True)"
   ]
  },
  {
   "cell_type": "code",
   "execution_count": 119,
   "id": "df262596-4bf8-421e-98bb-6e7c6fdd3d7d",
   "metadata": {},
   "outputs": [
    {
     "data": {
      "text/html": [
       "<div>\n",
       "<style scoped>\n",
       "    .dataframe tbody tr th:only-of-type {\n",
       "        vertical-align: middle;\n",
       "    }\n",
       "\n",
       "    .dataframe tbody tr th {\n",
       "        vertical-align: top;\n",
       "    }\n",
       "\n",
       "    .dataframe thead th {\n",
       "        text-align: right;\n",
       "    }\n",
       "</style>\n",
       "<table border=\"1\" class=\"dataframe\">\n",
       "  <thead>\n",
       "    <tr style=\"text-align: right;\">\n",
       "      <th></th>\n",
       "      <th>DATA_VOLUME</th>\n",
       "      <th>ON_NET</th>\n",
       "      <th>ORANGE</th>\n",
       "      <th>TIGO</th>\n",
       "      <th>REGULARITY</th>\n",
       "      <th>CHURN</th>\n",
       "      <th>REGION_DAKAR</th>\n",
       "      <th>REGION_DIOURBEL</th>\n",
       "      <th>REGION_FATICK</th>\n",
       "      <th>REGION_KAFFRINE</th>\n",
       "      <th>...</th>\n",
       "      <th>TOP_PACK_VASIVRRADIODAILY</th>\n",
       "      <th>TOP_PACK_VASIVRRADIOMONTHLY</th>\n",
       "      <th>TOP_PACK_VASIVRRADIOWEEKLY</th>\n",
       "      <th>TOP_PACK_WIFIFAMILY10MBPS</th>\n",
       "      <th>TOP_PACK_WIFIFAMILY2MBPS</th>\n",
       "      <th>TOP_PACK_WIFIFAMILY4MBPS</th>\n",
       "      <th>TOP_PACK_YEWOULEENPKG</th>\n",
       "      <th>TOP_PACK_YMGX1001HOURFNF24H1MONTH</th>\n",
       "      <th>TOP_PACK_other_TOP_PACK</th>\n",
       "      <th>MONTANT_derived</th>\n",
       "    </tr>\n",
       "  </thead>\n",
       "  <tbody>\n",
       "    <tr>\n",
       "      <th>0</th>\n",
       "      <td>0.000003</td>\n",
       "      <td>0.014940</td>\n",
       "      <td>0.006005</td>\n",
       "      <td>0.000240</td>\n",
       "      <td>0.868852</td>\n",
       "      <td>0</td>\n",
       "      <td>0</td>\n",
       "      <td>0</td>\n",
       "      <td>1</td>\n",
       "      <td>0</td>\n",
       "      <td>...</td>\n",
       "      <td>0</td>\n",
       "      <td>0</td>\n",
       "      <td>0</td>\n",
       "      <td>0</td>\n",
       "      <td>0</td>\n",
       "      <td>0</td>\n",
       "      <td>0</td>\n",
       "      <td>0</td>\n",
       "      <td>0</td>\n",
       "      <td>0.055791</td>\n",
       "    </tr>\n",
       "    <tr>\n",
       "      <th>2</th>\n",
       "      <td>0.035357</td>\n",
       "      <td>0.001579</td>\n",
       "      <td>0.013316</td>\n",
       "      <td>0.000479</td>\n",
       "      <td>1.000000</td>\n",
       "      <td>0</td>\n",
       "      <td>1</td>\n",
       "      <td>0</td>\n",
       "      <td>0</td>\n",
       "      <td>0</td>\n",
       "      <td>...</td>\n",
       "      <td>0</td>\n",
       "      <td>0</td>\n",
       "      <td>0</td>\n",
       "      <td>0</td>\n",
       "      <td>0</td>\n",
       "      <td>0</td>\n",
       "      <td>0</td>\n",
       "      <td>0</td>\n",
       "      <td>0</td>\n",
       "      <td>0.073258</td>\n",
       "    </tr>\n",
       "    <tr>\n",
       "      <th>5</th>\n",
       "      <td>0.001292</td>\n",
       "      <td>0.002965</td>\n",
       "      <td>0.003786</td>\n",
       "      <td>0.023958</td>\n",
       "      <td>0.885246</td>\n",
       "      <td>0</td>\n",
       "      <td>1</td>\n",
       "      <td>0</td>\n",
       "      <td>0</td>\n",
       "      <td>0</td>\n",
       "      <td>...</td>\n",
       "      <td>0</td>\n",
       "      <td>0</td>\n",
       "      <td>0</td>\n",
       "      <td>0</td>\n",
       "      <td>0</td>\n",
       "      <td>0</td>\n",
       "      <td>0</td>\n",
       "      <td>0</td>\n",
       "      <td>0</td>\n",
       "      <td>0.070981</td>\n",
       "    </tr>\n",
       "    <tr>\n",
       "      <th>8</th>\n",
       "      <td>0.006823</td>\n",
       "      <td>0.016596</td>\n",
       "      <td>0.008616</td>\n",
       "      <td>0.001437</td>\n",
       "      <td>1.000000</td>\n",
       "      <td>0</td>\n",
       "      <td>0</td>\n",
       "      <td>0</td>\n",
       "      <td>0</td>\n",
       "      <td>0</td>\n",
       "      <td>...</td>\n",
       "      <td>0</td>\n",
       "      <td>0</td>\n",
       "      <td>0</td>\n",
       "      <td>0</td>\n",
       "      <td>0</td>\n",
       "      <td>0</td>\n",
       "      <td>0</td>\n",
       "      <td>0</td>\n",
       "      <td>0</td>\n",
       "      <td>0.119567</td>\n",
       "    </tr>\n",
       "    <tr>\n",
       "      <th>12</th>\n",
       "      <td>0.000727</td>\n",
       "      <td>0.000385</td>\n",
       "      <td>0.007833</td>\n",
       "      <td>0.001677</td>\n",
       "      <td>1.000000</td>\n",
       "      <td>0</td>\n",
       "      <td>1</td>\n",
       "      <td>0</td>\n",
       "      <td>0</td>\n",
       "      <td>0</td>\n",
       "      <td>...</td>\n",
       "      <td>0</td>\n",
       "      <td>0</td>\n",
       "      <td>0</td>\n",
       "      <td>0</td>\n",
       "      <td>0</td>\n",
       "      <td>0</td>\n",
       "      <td>0</td>\n",
       "      <td>0</td>\n",
       "      <td>0</td>\n",
       "      <td>0.179136</td>\n",
       "    </tr>\n",
       "    <tr>\n",
       "      <th>...</th>\n",
       "      <td>...</td>\n",
       "      <td>...</td>\n",
       "      <td>...</td>\n",
       "      <td>...</td>\n",
       "      <td>...</td>\n",
       "      <td>...</td>\n",
       "      <td>...</td>\n",
       "      <td>...</td>\n",
       "      <td>...</td>\n",
       "      <td>...</td>\n",
       "      <td>...</td>\n",
       "      <td>...</td>\n",
       "      <td>...</td>\n",
       "      <td>...</td>\n",
       "      <td>...</td>\n",
       "      <td>...</td>\n",
       "      <td>...</td>\n",
       "      <td>...</td>\n",
       "      <td>...</td>\n",
       "      <td>...</td>\n",
       "      <td>...</td>\n",
       "    </tr>\n",
       "    <tr>\n",
       "      <th>1415867</th>\n",
       "      <td>0.000000</td>\n",
       "      <td>0.002772</td>\n",
       "      <td>0.000914</td>\n",
       "      <td>0.000240</td>\n",
       "      <td>0.885246</td>\n",
       "      <td>0</td>\n",
       "      <td>0</td>\n",
       "      <td>0</td>\n",
       "      <td>0</td>\n",
       "      <td>0</td>\n",
       "      <td>...</td>\n",
       "      <td>0</td>\n",
       "      <td>0</td>\n",
       "      <td>0</td>\n",
       "      <td>0</td>\n",
       "      <td>0</td>\n",
       "      <td>0</td>\n",
       "      <td>0</td>\n",
       "      <td>0</td>\n",
       "      <td>0</td>\n",
       "      <td>0.012420</td>\n",
       "    </tr>\n",
       "    <tr>\n",
       "      <th>1415868</th>\n",
       "      <td>0.000000</td>\n",
       "      <td>0.000077</td>\n",
       "      <td>0.001567</td>\n",
       "      <td>0.000719</td>\n",
       "      <td>0.180328</td>\n",
       "      <td>0</td>\n",
       "      <td>0</td>\n",
       "      <td>0</td>\n",
       "      <td>0</td>\n",
       "      <td>0</td>\n",
       "      <td>...</td>\n",
       "      <td>0</td>\n",
       "      <td>0</td>\n",
       "      <td>0</td>\n",
       "      <td>0</td>\n",
       "      <td>0</td>\n",
       "      <td>0</td>\n",
       "      <td>0</td>\n",
       "      <td>0</td>\n",
       "      <td>0</td>\n",
       "      <td>0.004954</td>\n",
       "    </tr>\n",
       "    <tr>\n",
       "      <th>1415869</th>\n",
       "      <td>0.000000</td>\n",
       "      <td>0.002195</td>\n",
       "      <td>0.000131</td>\n",
       "      <td>0.001677</td>\n",
       "      <td>0.327869</td>\n",
       "      <td>0</td>\n",
       "      <td>0</td>\n",
       "      <td>0</td>\n",
       "      <td>0</td>\n",
       "      <td>0</td>\n",
       "      <td>...</td>\n",
       "      <td>0</td>\n",
       "      <td>0</td>\n",
       "      <td>0</td>\n",
       "      <td>0</td>\n",
       "      <td>0</td>\n",
       "      <td>0</td>\n",
       "      <td>0</td>\n",
       "      <td>0</td>\n",
       "      <td>0</td>\n",
       "      <td>0.014645</td>\n",
       "    </tr>\n",
       "    <tr>\n",
       "      <th>1415870</th>\n",
       "      <td>0.005973</td>\n",
       "      <td>0.000077</td>\n",
       "      <td>0.001567</td>\n",
       "      <td>0.001677</td>\n",
       "      <td>1.000000</td>\n",
       "      <td>0</td>\n",
       "      <td>1</td>\n",
       "      <td>0</td>\n",
       "      <td>0</td>\n",
       "      <td>0</td>\n",
       "      <td>...</td>\n",
       "      <td>0</td>\n",
       "      <td>0</td>\n",
       "      <td>0</td>\n",
       "      <td>0</td>\n",
       "      <td>0</td>\n",
       "      <td>0</td>\n",
       "      <td>0</td>\n",
       "      <td>0</td>\n",
       "      <td>0</td>\n",
       "      <td>0.036061</td>\n",
       "    </tr>\n",
       "    <tr>\n",
       "      <th>1415871</th>\n",
       "      <td>0.000501</td>\n",
       "      <td>0.001001</td>\n",
       "      <td>0.005222</td>\n",
       "      <td>0.009583</td>\n",
       "      <td>0.885246</td>\n",
       "      <td>0</td>\n",
       "      <td>0</td>\n",
       "      <td>0</td>\n",
       "      <td>0</td>\n",
       "      <td>0</td>\n",
       "      <td>...</td>\n",
       "      <td>0</td>\n",
       "      <td>0</td>\n",
       "      <td>0</td>\n",
       "      <td>0</td>\n",
       "      <td>0</td>\n",
       "      <td>0</td>\n",
       "      <td>0</td>\n",
       "      <td>0</td>\n",
       "      <td>0</td>\n",
       "      <td>0.054993</td>\n",
       "    </tr>\n",
       "  </tbody>\n",
       "</table>\n",
       "<p>870853 rows × 131 columns</p>\n",
       "</div>"
      ],
      "text/plain": [
       "         DATA_VOLUME    ON_NET    ORANGE      TIGO  REGULARITY  CHURN  \\\n",
       "0           0.000003  0.014940  0.006005  0.000240    0.868852      0   \n",
       "2           0.035357  0.001579  0.013316  0.000479    1.000000      0   \n",
       "5           0.001292  0.002965  0.003786  0.023958    0.885246      0   \n",
       "8           0.006823  0.016596  0.008616  0.001437    1.000000      0   \n",
       "12          0.000727  0.000385  0.007833  0.001677    1.000000      0   \n",
       "...              ...       ...       ...       ...         ...    ...   \n",
       "1415867     0.000000  0.002772  0.000914  0.000240    0.885246      0   \n",
       "1415868     0.000000  0.000077  0.001567  0.000719    0.180328      0   \n",
       "1415869     0.000000  0.002195  0.000131  0.001677    0.327869      0   \n",
       "1415870     0.005973  0.000077  0.001567  0.001677    1.000000      0   \n",
       "1415871     0.000501  0.001001  0.005222  0.009583    0.885246      0   \n",
       "\n",
       "         REGION_DAKAR  REGION_DIOURBEL  REGION_FATICK  REGION_KAFFRINE  ...  \\\n",
       "0                   0                0              1                0  ...   \n",
       "2                   1                0              0                0  ...   \n",
       "5                   1                0              0                0  ...   \n",
       "8                   0                0              0                0  ...   \n",
       "12                  1                0              0                0  ...   \n",
       "...               ...              ...            ...              ...  ...   \n",
       "1415867             0                0              0                0  ...   \n",
       "1415868             0                0              0                0  ...   \n",
       "1415869             0                0              0                0  ...   \n",
       "1415870             1                0              0                0  ...   \n",
       "1415871             0                0              0                0  ...   \n",
       "\n",
       "         TOP_PACK_VASIVRRADIODAILY  TOP_PACK_VASIVRRADIOMONTHLY  \\\n",
       "0                                0                            0   \n",
       "2                                0                            0   \n",
       "5                                0                            0   \n",
       "8                                0                            0   \n",
       "12                               0                            0   \n",
       "...                            ...                          ...   \n",
       "1415867                          0                            0   \n",
       "1415868                          0                            0   \n",
       "1415869                          0                            0   \n",
       "1415870                          0                            0   \n",
       "1415871                          0                            0   \n",
       "\n",
       "         TOP_PACK_VASIVRRADIOWEEKLY  TOP_PACK_WIFIFAMILY10MBPS  \\\n",
       "0                                 0                          0   \n",
       "2                                 0                          0   \n",
       "5                                 0                          0   \n",
       "8                                 0                          0   \n",
       "12                                0                          0   \n",
       "...                             ...                        ...   \n",
       "1415867                           0                          0   \n",
       "1415868                           0                          0   \n",
       "1415869                           0                          0   \n",
       "1415870                           0                          0   \n",
       "1415871                           0                          0   \n",
       "\n",
       "         TOP_PACK_WIFIFAMILY2MBPS  TOP_PACK_WIFIFAMILY4MBPS  \\\n",
       "0                               0                         0   \n",
       "2                               0                         0   \n",
       "5                               0                         0   \n",
       "8                               0                         0   \n",
       "12                              0                         0   \n",
       "...                           ...                       ...   \n",
       "1415867                         0                         0   \n",
       "1415868                         0                         0   \n",
       "1415869                         0                         0   \n",
       "1415870                         0                         0   \n",
       "1415871                         0                         0   \n",
       "\n",
       "         TOP_PACK_YEWOULEENPKG  TOP_PACK_YMGX1001HOURFNF24H1MONTH  \\\n",
       "0                            0                                  0   \n",
       "2                            0                                  0   \n",
       "5                            0                                  0   \n",
       "8                            0                                  0   \n",
       "12                           0                                  0   \n",
       "...                        ...                                ...   \n",
       "1415867                      0                                  0   \n",
       "1415868                      0                                  0   \n",
       "1415869                      0                                  0   \n",
       "1415870                      0                                  0   \n",
       "1415871                      0                                  0   \n",
       "\n",
       "         TOP_PACK_other_TOP_PACK  MONTANT_derived  \n",
       "0                              0         0.055791  \n",
       "2                              0         0.073258  \n",
       "5                              0         0.070981  \n",
       "8                              0         0.119567  \n",
       "12                             0         0.179136  \n",
       "...                          ...              ...  \n",
       "1415867                        0         0.012420  \n",
       "1415868                        0         0.004954  \n",
       "1415869                        0         0.014645  \n",
       "1415870                        0         0.036061  \n",
       "1415871                        0         0.054993  \n",
       "\n",
       "[870853 rows x 131 columns]"
      ]
     },
     "execution_count": 119,
     "metadata": {},
     "output_type": "execute_result"
    }
   ],
   "source": [
    "train"
   ]
  },
  {
   "cell_type": "code",
   "execution_count": 120,
   "id": "ce22227c-a7ea-4fb4-ad6d-16b5e3eace33",
   "metadata": {},
   "outputs": [],
   "source": [
    "train = train.reset_index(drop = True)\n",
    "test = test.reset_index(drop = True)\n",
    "CHURN = train.CHURN\n",
    "train.drop(\"CHURN\", axis = 1, inplace = True)\n",
    "train[\"isTrain\"] = 1\n",
    "test[\"isTrain\"] = 0\n",
    "df = pd.concat([train, test], ignore_index=True)\n",
    "order = df[\"isTrain\"].copy()\n",
    "df.drop(\"isTrain\", axis = 1, inplace = True)\n"
   ]
  },
  {
   "cell_type": "code",
   "execution_count": 121,
   "id": "255c8ef1-62e9-43a9-979b-11841f6830ed",
   "metadata": {},
   "outputs": [
    {
     "name": "stderr",
     "output_type": "stream",
     "text": [
      "/home/arik/anaconda3/envs/ML/lib/python3.7/site-packages/pandas/core/frame.py:4170: SettingWithCopyWarning: \n",
      "A value is trying to be set on a copy of a slice from a DataFrame\n",
      "\n",
      "See the caveats in the documentation: https://pandas.pydata.org/pandas-docs/stable/user_guide/indexing.html#returning-a-view-versus-a-copy\n",
      "  errors=errors,\n"
     ]
    }
   ],
   "source": [
    "pca = PCA(n_components=pca_num, svd_solver=pca_svd_solver)\n",
    "principalComponents = pca.fit_transform(df)\n",
    "principalDf = pd.DataFrame(data = principalComponents)\n",
    "principalDf[\"isTrain\"] = order\n",
    "train_pca = principalDf[principalDf[\"isTrain\"] == 1]\n",
    "test_pca = principalDf[principalDf[\"isTrain\"] == 0]\n",
    "train_pca.drop(\"isTrain\", axis = 1 , inplace = True)\n",
    "test_pca.drop(\"isTrain\", axis = 1 , inplace = True)\n",
    "# Delete dataframes to relax the memory.\n",
    "del train\n",
    "del test\n",
    "del df\n",
    "del principalDf\n"
   ]
  },
  {
   "cell_type": "code",
   "execution_count": 122,
   "id": "91f567ca-a1d8-45fd-911d-f0a51228276f",
   "metadata": {},
   "outputs": [],
   "source": [
    "train_pca = train_pca.reset_index(drop = True)\n",
    "test_pca = test_pca.reset_index(drop = True)"
   ]
  },
  {
   "cell_type": "markdown",
   "id": "49108a87-8682-4665-85c4-90bfc3100e83",
   "metadata": {},
   "source": [
    "# Oversampling with SMOTE"
   ]
  },
  {
   "cell_type": "code",
   "execution_count": 123,
   "id": "43a933c1-4915-42c9-a171-9f00f6dd1bf2",
   "metadata": {},
   "outputs": [],
   "source": [
    "# transform the dataset\n",
    "oversample = SMOTE()\n",
    "train_pca, CHURN = oversample.fit_resample(train_pca, CHURN)"
   ]
  },
  {
   "cell_type": "code",
   "execution_count": 124,
   "id": "1e735c36-d4dc-4312-aaf8-6b519111e992",
   "metadata": {},
   "outputs": [],
   "source": [
    "train_pca[\"CHURN\"] = CHURN.copy()"
   ]
  },
  {
   "cell_type": "code",
   "execution_count": 125,
   "id": "4e1300aa-986f-4bb2-8abc-e509ec2efbb4",
   "metadata": {},
   "outputs": [],
   "source": [
    "# For the selection of the train and validation data, using stratified kfold approach is a good idea, since the data is still highly imbalanced, even after data reduction.\n",
    "n_number = np.log2(train_pca.shape[0]) + 1\n",
    "skf = StratifiedKFold(n_splits=int(n_number), random_state=42, shuffle=True)\n",
    "for f, (t_, v_) in enumerate(skf.split(X=train_pca, y=CHURN)):\n",
    "    train_pca.loc[v_, 'kfold'] = f"
   ]
  },
  {
   "cell_type": "code",
   "execution_count": 126,
   "id": "9a2a0dc1-4efe-4feb-9234-c417f53063e3",
   "metadata": {},
   "outputs": [
    {
     "name": "stdout",
     "output_type": "stream",
     "text": [
      "Best score is:0.9467704905624076 and kfold number is:0\n",
      "Best score is:0.9474397650748625 and kfold number is:20\n"
     ]
    }
   ],
   "source": [
    "#Find the best kfold for validation data. --> Done it once, n = 20 is the best partition for the validation set.\n",
    "best_score = 0\n",
    "best_kfold = -1\n",
    "for num in range(int(n_number)):\n",
    "    train_candidate = train_pca[train_pca[\"kfold\"] != num]\n",
    "    test_candidate  = train_pca[train_pca[\"kfold\"] == num]\n",
    "    train_x = train_candidate.drop([\"CHURN\",\"kfold\"], axis = 1)\n",
    "    train_y = train_candidate.CHURN\n",
    "    test_x = test_candidate.drop([\"CHURN\",\"kfold\"], axis = 1)\n",
    "    test_y = test_candidate.CHURN\n",
    "    clf = lr.fit(train_x, train_y)\n",
    "    score = roc_auc_score(test_y, clf.predict_proba(test_x)[:, 1])\n",
    "    if score > best_score:\n",
    "        best_score = score\n",
    "        best_kfold = num\n",
    "        print(\"Best score is:\" + str(best_score) + \" and kfold number is:\" + str(best_kfold))"
   ]
  },
  {
   "cell_type": "code",
   "execution_count": 127,
   "id": "5c96af45-fa3f-46ed-8e1f-0beb2e8ca0d4",
   "metadata": {},
   "outputs": [],
   "source": [
    "#Logistic regression hyper-parameter tuning.\n",
    "#train_candidate = train_pca[train_pca[\"kfold\"] != best_kfold]\n",
    "#test_candidate  = train_pca[train_pca[\"kfold\"] == best_kfold]\n",
    "#train_x = train_candidate.drop([\"CHURN\",\"kfold\"], axis = 1)\n",
    "#train_y = train_candidate.CHURN\n",
    "#test_x = test_candidate.drop([\"CHURN\",\"kfold\"], axis = 1)\n",
    "#test_y = test_candidate.CHURN\n",
    "#for solver_lr_candidate in solver_lr_list:\n",
    "#    for penalty_lr_candidate in penalty_lr_list:\n",
    "#        for C_lr_candidate in C_lr_list:\n",
    "#            for tol_lr_candidate in tol_lr_list:\n",
    "#                for class_weight_lr_candidate in class_weight_lr_list:\n",
    "#                    for max_iter_lr_candidate in max_iter_lr_list:\n",
    "#                        time = datetime.now()\n",
    "#                        clf = LogisticRegression(\n",
    "#                             solver=best_solver_lr,\n",
    "#                             tol = tol_lr_candidate,\n",
    "#                             C = C_lr_candidate,\n",
    "#                             class_weight = class_weight_lr_candidate,\n",
    "#                             max_iter = max_iter_lr_candidate,\n",
    "#                            penalty = penalty_lr_candidate,\n",
    "#                             random_state=42).fit(train_x, train_y)\n",
    "#                        score = roc_auc_score(test_y, clf.predict_proba(test_x)[:, 1])\n",
    "#                        \n",
    "#                        if score > best_score:\n",
    "#                            best_score = score\n",
    "#                            best_solver_lr = solver_lr_candidate\n",
    "#                            best_penalty_lr = penalty_lr_candidate\n",
    "#                            best_C_lr = C_lr_candidate\n",
    "#                            best_tol_lr = tol_lr_candidate\n",
    "#                            best_class_weight_lr = class_weight_lr_candidate\n",
    "#                            best_max_iter_lr = max_iter_lr_candidate\n",
    "#                            print(\"---------------------------------\")\n",
    "#                            print(\"BEST:\")\n",
    "#                            print(\"Best score is:\" + str(best_score))\n",
    "#                            print(\"Best solver lr is:\" + str(best_solver_lr))\n",
    "#                            print(\"Best penalty lr is:\" + str(best_penalty_lr))\n",
    "#                            print(\"Best C lr is:\" + str(best_C_lr))\n",
    "#                            print(\"Best tol lr is:\" + str(best_tol_lr))\n",
    "#                            print(\"Best class weight lr is:\" + str(best_class_weight_lr))\n",
    "#                            print(\"Best max iter lr is:\" + str(best_max_iter_lr))\n",
    "#                            \n",
    "#                        else:\n",
    "#                            print(\"---------------------------------\")      \n",
    "#                            print(\"TRACING:\")\n",
    "#                            print(\"score is:\" + str(score))\n",
    "#                            print(\"solver lr is:\" + str(solver_lr_candidate))\n",
    "#                            print(\"penalty lr is:\" + str(penalty_lr_candidate))\n",
    "#                            print(\"C lr is:\" + str(C_lr_candidate))\n",
    "#                            print(\"tol lr is:\" + str(tol_lr_candidate))\n",
    "#                            print(\"class weight lr is:\" + str(class_weight_lr_candidate))\n",
    "#                            print(\"max iter lr is:\" + str(max_iter_lr_candidate))\n",
    "#                        print(\"Time: \" + str(datetime.now() - time))"
   ]
  },
  {
   "cell_type": "code",
   "execution_count": 128,
   "id": "8b8a36a6-4cc5-4fc7-b133-1f2894980529",
   "metadata": {},
   "outputs": [
    {
     "name": "stdout",
     "output_type": "stream",
     "text": [
      "The best validation performance based on auc score is: 0.9474397650748625\n",
      "The best validation performance based on precision is: 0.8785701338502947\n",
      "The best validation performance based on recall is: 0.8785448323530338\n"
     ]
    }
   ],
   "source": [
    "# Gaining the best performance from validation data.\n",
    "train_candidate = train_pca[train_pca[\"kfold\"] != best_kfold]\n",
    "test_candidate  = train_pca[train_pca[\"kfold\"] == best_kfold]\n",
    "train_x = train_candidate.drop([\"CHURN\",\"kfold\"], axis = 1)\n",
    "train_y = train_candidate.CHURN\n",
    "test_x = test_candidate.drop([\"CHURN\",\"kfold\"], axis = 1)\n",
    "test_y = test_candidate.CHURN\n",
    "clf = lr.fit(train_x, train_y)\n",
    "roc_score = roc_auc_score(test_y, clf.predict_proba(test_x)[:, 1])\n",
    "precision = precision_score(test_y, clf.predict(test_x), average='macro')\n",
    "recall = recall_score(test_y, clf.predict(test_x), average='macro')\n",
    "\n",
    "print(\"The best validation performance based on auc score is: \" + str(roc_score))\n",
    "print(\"The best validation performance based on precision is: \" + str(precision))\n",
    "print(\"The best validation performance based on recall is: \" + str(recall))"
   ]
  },
  {
   "cell_type": "code",
   "execution_count": 129,
   "id": "51df620f-0cb7-4d1a-b37a-a7e725cd68c7",
   "metadata": {},
   "outputs": [],
   "source": [
    "#creating the submission file for predictions.\n",
    "predictions = clf.predict_proba(test_pca)[:, 1]\n",
    "submissions = pd.DataFrame()\n",
    "submissions[\"user_id\"] = user_ids\n",
    "submissions[\"CHURN\"] = predictions\n",
    "submissions.to_csv(file_path + \"LR_best.csv\",index=False)"
   ]
  },
  {
   "cell_type": "code",
   "execution_count": null,
   "id": "798d9f5a-dab5-48ce-b226-b3008ffe05eb",
   "metadata": {},
   "outputs": [],
   "source": []
  }
 ],
 "metadata": {
  "kernelspec": {
   "display_name": "Python 3 (ipykernel)",
   "language": "python",
   "name": "python3"
  },
  "language_info": {
   "codemirror_mode": {
    "name": "ipython",
    "version": 3
   },
   "file_extension": ".py",
   "mimetype": "text/x-python",
   "name": "python",
   "nbconvert_exporter": "python",
   "pygments_lexer": "ipython3",
   "version": "3.7.11"
  }
 },
 "nbformat": 4,
 "nbformat_minor": 5
}
